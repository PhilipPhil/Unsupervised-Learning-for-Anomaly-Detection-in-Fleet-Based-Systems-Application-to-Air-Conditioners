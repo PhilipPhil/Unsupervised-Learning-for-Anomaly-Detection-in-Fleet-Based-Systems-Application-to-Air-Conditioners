{
 "cells": [
  {
   "cell_type": "code",
   "execution_count": null,
   "id": "d779fae7",
   "metadata": {},
   "outputs": [
    {
     "name": "stdout",
     "output_type": "stream",
     "text": [
      "----------\n",
      "Features used: all\n",
      "0.956\n",
      "[0.919, 0.923, 0.925, 0.938, 0.956, 0.952]\n",
      "[0.7, 0.74, 0.77, 0.8, 0.8, 0.8]\n",
      "[5, 6, 7, 8, 9, 10]\n",
      "----------\n",
      "----------\n",
      "Features used: real\n",
      "0.951\n",
      "[0.926, 0.917, 0.951, 0.936, 0.946, 0.95]\n",
      "[0.58, 0.57, 0.58, 0.58, 0.6, 0.6]\n",
      "[5, 6, 7, 8, 9, 10]\n",
      "----------\n",
      "----------\n",
      "Features used: reactive\n"
     ]
    }
   ],
   "source": [
    "import time\n",
    "from tools.Inne import Inne\n",
    "\n",
    "param = [5,6,7,8,9,10]\n",
    "\n",
    "for feature in ['all','real','reactive','harmonic']:\n",
    "    AUC_Scores = []\n",
    "    times = []\n",
    "\n",
    "    print('----------')\n",
    "    print('Features used: ' + feature)\n",
    "    \n",
    "    for sample_size in param:\n",
    "        mdl = Inne(feature=feature, suppress_progress=True)\n",
    "        mdl.sample_size = sample_size\n",
    "        \n",
    "        start = time.time()\n",
    "        anomaly_score, y = mdl.cluster_all()\n",
    "        end = time.time()\n",
    "        \n",
    "        sc = round(mdl.auc_score(anomaly_score, y), 3)\n",
    "        AUC_Scores.append(sc)\n",
    "\n",
    "        avrg_run = round(( (end - start)/1000 ), 2)\n",
    "        times.append( avrg_run )\n",
    "\n",
    "    print(max(AUC_Scores))\n",
    "    print(AUC_Scores)\n",
    "    print(times)\n",
    "    print(param)\n",
    "\n",
    "    print('----------')"
   ]
  },
  {
   "cell_type": "code",
   "execution_count": null,
   "id": "71c6afb5",
   "metadata": {},
   "outputs": [],
   "source": []
  }
 ],
 "metadata": {
  "kernelspec": {
   "display_name": "Python 3",
   "language": "python",
   "name": "python3"
  },
  "language_info": {
   "codemirror_mode": {
    "name": "ipython",
    "version": 3
   },
   "file_extension": ".py",
   "mimetype": "text/x-python",
   "name": "python",
   "nbconvert_exporter": "python",
   "pygments_lexer": "ipython3",
   "version": "3.8.8"
  }
 },
 "nbformat": 4,
 "nbformat_minor": 5
}
