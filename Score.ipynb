{
 "cells": [
  {
   "cell_type": "code",
   "execution_count": 243,
   "id": "b8b26a59",
   "metadata": {},
   "outputs": [],
   "source": [
    "import pandas as pd\n",
    "import numpy as np\n",
    "import os\n",
    "import scipy.cluster.hierarchy as sch\n",
    "import matplotlib.pyplot as plt\n",
    "from matplotlib.pyplot import figure\n",
    "from sklearn.metrics import *\n",
    "from collections import Counter"
   ]
  },
  {
   "cell_type": "code",
   "execution_count": 244,
   "id": "ef9a73a2",
   "metadata": {},
   "outputs": [],
   "source": [
    "class HierarchicalClustering:\n",
    "    def __init__(self, state: str):\n",
    "        self.state = state\n",
    "        self.ACs = []\n",
    "        for ac_name in os.listdir('./ACs'):\n",
    "            if state in ac_name:\n",
    "                ac_i = pd.read_pickle('./ACs/'+ac_name)\n",
    "                self.ACs.append(ac_i)\n",
    "        self.n_rows = len(self.ACs[0])\n",
    "\n",
    "    def get_X_Y(self, row: int) -> (pd.DataFrame, pd.DataFrame):\n",
    "        data = []\n",
    "        for AC in self.ACs:\n",
    "            AC = pd.DataFrame(AC)\n",
    "            data.append(AC.iloc[row,:].tolist())\n",
    "        data = pd.DataFrame(data).reset_index(drop=True)\n",
    "        X = data.iloc[:,1:]\n",
    "        Y = data.iloc[:,0]\n",
    "        \n",
    "        return X, Y    \n",
    "    \n",
    "    def cluster(self, X: pd.DataFrame, Y: pd.Series, method='ward', threashold = 0.8, no_plot=True) -> (list, list, list):\n",
    "        dendrogram = sch.dendrogram(sch.linkage(X, method=method), no_plot=no_plot)\n",
    "        \n",
    "        leaves = dendrogram['leaves']\n",
    "        leaves_color_list = dendrogram['leaves_color_list']\n",
    "        color_counts = Counter(dendrogram['leaves_color_list'])\n",
    "        \n",
    "        n_leaves = len(leaves_color_list)\n",
    "        \n",
    "        anomaly_score = [0]*n_leaves\n",
    "        yhat = [0]*n_leaves\n",
    "        for i, color in zip(leaves, leaves_color_list):\n",
    "            anomaly_score[i] = 1 - (color_counts[color]/n_leaves)\n",
    "            \n",
    "            if anomaly_score[i] > threashold: # Under 1/3 are the cluster\n",
    "                yhat[i] = 1\n",
    "            \n",
    "        return (yhat, Y.astype(int).tolist(), anomaly_score)\n",
    "    \n",
    "    def cluster_all(self, method='ward', threashold = 0.8) -> (list, list, list):\n",
    "        \n",
    "        yhat, y, anomaly_score = [], [], []\n",
    "        \n",
    "        for row in range(self.n_rows):\n",
    "            X, Y = hc.get_X_Y(row)\n",
    "            if sum(Y) > len(Y)//2: continue\n",
    "                \n",
    "            yhat_row, y_row, anomaly_score_row = hc.cluster(X,Y,method,threashold)\n",
    "            \n",
    "            y += y_row\n",
    "            anomaly_score += anomaly_score_row\n",
    "            yhat += yhat_row\n",
    "            \n",
    "        # accuracy: (tp + tn) / (p + n)\n",
    "        accuracy = accuracy_score(y, yhat)\n",
    "        print('Accuracy: %f' % accuracy)\n",
    "        # precision tp / (tp + fp)\n",
    "        precision = precision_score(y, yhat)\n",
    "        print('Precision: %f' % precision)\n",
    "        # recall: tp / (tp + fn)\n",
    "        recall = recall_score(y, yhat)\n",
    "        print('Recall: %f' % recall)\n",
    "        # f1: 2 tp / (2 tp + fp + fn)\n",
    "        f1 = f1_score(y, yhat)\n",
    "        print('F1 score: %f' % f1)\n",
    "        # AUC\n",
    "        fpr, tpr, thresholds = roc_curve(y_row, anomaly_score_row)\n",
    "        AUC = auc(fpr, tpr)\n",
    "        print('AUC score: %f' % AUC)\n",
    "        return yhat, y, anomaly_score\n",
    "        "
   ]
  },
  {
   "cell_type": "code",
   "execution_count": 245,
   "id": "42a751f5",
   "metadata": {},
   "outputs": [
    {
     "name": "stdout",
     "output_type": "stream",
     "text": [
      "Threashold : 0.8\n",
      "Accuracy: 0.904283\n",
      "Precision: 0.506303\n",
      "Recall: 0.358631\n",
      "F1 score: 0.419861\n",
      "AUC score: 1.000000\n",
      "--------------------\n",
      "Threashold : 0.85\n",
      "Accuracy: 0.904283\n",
      "Precision: 0.506303\n",
      "Recall: 0.358631\n",
      "F1 score: 0.419861\n",
      "AUC score: 1.000000\n",
      "--------------------\n",
      "Threashold : 0.9\n",
      "Accuracy: 0.904283\n",
      "Precision: 0.506303\n",
      "Recall: 0.358631\n",
      "F1 score: 0.419861\n",
      "AUC score: 1.000000\n",
      "--------------------\n",
      "Threashold : 0.95\n",
      "Accuracy: 0.904283\n",
      "Precision: 0.506303\n",
      "Recall: 0.358631\n",
      "F1 score: 0.419861\n",
      "AUC score: 1.000000\n",
      "--------------------\n"
     ]
    }
   ],
   "source": [
    "hc = HierarchicalClustering('harmonic_low_18_cold_fullyOpen')\n",
    "# for threashold in [0.5, 0.6, 0.7, 0.8, 0.85, 0.9, 0.95]:\n",
    "for threashold in [0.8, 0.85, 0.9, 0.95]:\n",
    "    print('Threashold : ' + str(threashold))\n",
    "    hc.cluster_all()\n",
    "    print('--------------------')"
   ]
  },
  {
   "cell_type": "code",
   "execution_count": 222,
   "id": "fb802bd4",
   "metadata": {},
   "outputs": [
    {
     "name": "stdout",
     "output_type": "stream",
     "text": [
      "[0, 0, 0, 0, 1, 0, 0, 0, 0, 0, 0]\n",
      "[0, 0, 0, 0, 1, 0, 0, 0, 0, 0, 0]\n",
      "0.0\n"
     ]
    },
    {
     "data": {
      "image/png": "[encoded data removed]",
      "text/plain": [
       "<Figure size 432x288 with 1 Axes>"
      ]
     },
     "metadata": {
      "needs_background": "light"
     },
     "output_type": "display_data"
    }
   ],
   "source": [
    "row = 300\n",
    "X, Y = hc.get_X_Y(row)\n",
    "yhat_row, y_row, anomaly_score_row = hc.cluster(X,Y,no_plot=False)\n",
    "print(yhat_row)\n",
    "print(y_row)"
   ]
  }
 ],
 "metadata": {
  "kernelspec": {
   "display_name": "Python 3",
   "language": "python",
   "name": "python3"
  },
  "language_info": {
   "codemirror_mode": {
    "name": "ipython",
    "version": 3
   },
   "file_extension": ".py",
   "mimetype": "text/x-python",
   "name": "python",
   "nbconvert_exporter": "python",
   "pygments_lexer": "ipython3",
   "version": "3.8.8"
  }
 },
 "nbformat": 4,
 "nbformat_minor": 5
}
