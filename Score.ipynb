{
 "cells": [
  {
   "cell_type": "code",
   "execution_count": 249,
   "id": "b8b26a59",
   "metadata": {},
   "outputs": [],
   "source": [
    "import pandas as pd\n",
    "import numpy as np\n",
    "import os\n",
    "import scipy.cluster.hierarchy as sch\n",
    "import matplotlib.pyplot as plt\n",
    "from matplotlib.pyplot import figure\n",
    "from sklearn.metrics import *\n",
    "from collections import Counter"
   ]
  },
  {
   "cell_type": "code",
   "execution_count": 269,
   "id": "ef9a73a2",
   "metadata": {},
   "outputs": [],
   "source": [
    "class HierarchicalClustering:\n",
    "    def __init__(self, state: str):\n",
    "        self.state = state\n",
    "        self.ACs = []\n",
    "        for ac_name in os.listdir('./ACs'):\n",
    "            if state in ac_name:\n",
    "                ac_i = pd.read_pickle('./ACs/'+ac_name)\n",
    "                self.ACs.append(ac_i)\n",
    "        self.n_rows = len(self.ACs[0])\n",
    "\n",
    "    def get_X_Y(self, row: int) -> (pd.DataFrame, pd.DataFrame):\n",
    "        data = []\n",
    "        for AC in self.ACs:\n",
    "            AC = pd.DataFrame(AC)\n",
    "            data.append(AC.iloc[row,:].tolist())\n",
    "        data = pd.DataFrame(data).reset_index(drop=True)\n",
    "        X = data.iloc[:,1:]\n",
    "        Y = data.iloc[:,0]\n",
    "        \n",
    "        return X, Y    \n",
    "    \n",
    "    def cluster(self, X: pd.DataFrame, Y: pd.Series, method='ward') -> (list, list):\n",
    "        dendrogram = sch.dendrogram(sch.linkage(X, method=method), no_plot=False)\n",
    "        \n",
    "        leaves = dendrogram['leaves']\n",
    "        leaves_color_list = dendrogram['leaves_color_list']\n",
    "        color_counts = Counter(dendrogram['leaves_color_list'])\n",
    "        \n",
    "        n_leaves = len(leaves_color_list)\n",
    "        \n",
    "        anomaly_score = [0] * n_leaves\n",
    "        for i, color in zip(leaves, leaves_color_list):\n",
    "            anomaly_score[i] = 1 - (color_counts[color]/n_leaves)\n",
    "            \n",
    "        return anomaly_score, Y.astype(int).tolist()\n",
    "    \n",
    "    def cluster_all(self, do_score=False, method='ward') -> (list, list):\n",
    "        \n",
    "        anomaly_score, y = [], []\n",
    "        \n",
    "        for row in range(self.n_rows):\n",
    "            X, Y = hc.get_X_Y(row)\n",
    "            if sum(Y) > len(Y)//2: continue\n",
    "                \n",
    "            anomaly_score_row, y_row  = hc.cluster(X,Y,method)\n",
    "            \n",
    "            anomaly_score += anomaly_score_row\n",
    "            y += y_row\n",
    "                    \n",
    "        return anomaly_score, y\n",
    "    \n",
    "    def score(self, anomaly_score, y, threashold):\n",
    "        \n",
    "        yhat = [ 0 if y_i < threashold else 1 for y_i in anomaly_score]\n",
    "            \n",
    "        # accuracy: (tp + tn) / (p + n)\n",
    "        accuracy = accuracy_score(y, yhat)\n",
    "        print('Accuracy: %f' % accuracy)\n",
    "        # precision tp / (tp + fp)\n",
    "        precision = precision_score(y, yhat)\n",
    "        print('Precision: %f' % precision)\n",
    "        # recall: tp / (tp + fn)\n",
    "        recall = recall_score(y, yhat)\n",
    "        print('Recall: %f' % recall)\n",
    "        # f1: 2 tp / (2 tp + fp + fn)\n",
    "        f1 = f1_score(y, yhat)\n",
    "        print('F1 score: %f' % f1)\n",
    "        # AUC\n",
    "        fpr, tpr, thresholds = roc_curve(y, anomaly_score)\n",
    "        AUC = auc(fpr, tpr)\n",
    "        print('AUC score: %f' % AUC)\n",
    "        return yhat, y, anomaly_score\n",
    "        "
   ]
  },
  {
   "cell_type": "code",
   "execution_count": 270,
   "id": "42a751f5",
   "metadata": {},
   "outputs": [
    {
     "name": "stdout",
     "output_type": "stream",
     "text": [
      "Threashold : 0.5\n",
      "Accuracy: 0.812143\n",
      "Precision: 0.328947\n",
      "Recall: 0.939850\n",
      "F1 score: 0.487329\n",
      "AUC score: 0.926637\n",
      "--------------------\n",
      "Threashold : 0.6\n",
      "Accuracy: 0.897857\n",
      "Precision: 0.477679\n",
      "Recall: 0.804511\n",
      "F1 score: 0.599440\n",
      "AUC score: 0.926637\n",
      "--------------------\n",
      "Threashold : 0.7\n",
      "Accuracy: 0.897857\n",
      "Precision: 0.477679\n",
      "Recall: 0.804511\n",
      "F1 score: 0.599440\n",
      "AUC score: 0.926637\n",
      "--------------------\n",
      "Threashold : 0.8\n",
      "Accuracy: 0.910714\n",
      "Precision: 0.542553\n",
      "Recall: 0.383459\n",
      "F1 score: 0.449339\n",
      "AUC score: 0.926637\n",
      "--------------------\n",
      "Threashold : 0.85\n",
      "Accuracy: 0.910714\n",
      "Precision: 0.542553\n",
      "Recall: 0.383459\n",
      "F1 score: 0.449339\n",
      "AUC score: 0.926637\n",
      "--------------------\n",
      "Threashold : 0.9\n",
      "Accuracy: 0.905000\n",
      "Precision: 0.000000\n",
      "Recall: 0.000000\n",
      "F1 score: 0.000000\n",
      "AUC score: 0.926637\n",
      "--------------------\n",
      "Threashold : 0.95\n",
      "Accuracy: 0.905000\n",
      "Precision: 0.000000\n",
      "Recall: 0.000000\n",
      "F1 score: 0.000000\n",
      "AUC score: 0.926637\n",
      "--------------------\n"
     ]
    },
    {
     "name": "stderr",
     "output_type": "stream",
     "text": [
      "C:\\Users\\user\\anaconda3\\lib\\site-packages\\sklearn\\metrics\\_classification.py:1245: UndefinedMetricWarning: Precision is ill-defined and being set to 0.0 due to no predicted samples. Use `zero_division` parameter to control this behavior.\n",
      "  _warn_prf(average, modifier, msg_start, len(result))\n",
      "C:\\Users\\user\\anaconda3\\lib\\site-packages\\sklearn\\metrics\\_classification.py:1245: UndefinedMetricWarning: Precision is ill-defined and being set to 0.0 due to no predicted samples. Use `zero_division` parameter to control this behavior.\n",
      "  _warn_prf(average, modifier, msg_start, len(result))\n"
     ]
    },
    {
     "data": {
      "image/png": "[encoded data removed]",
      "text/plain": [
       "<Figure size 432x288 with 1 Axes>"
      ]
     },
     "metadata": {
      "needs_background": "light"
     },
     "output_type": "display_data"
    }
   ],
   "source": [
    "hc = HierarchicalClustering('harmonic_low_18_cold_fullyOpen')\n",
    "anomaly_score, y = hc.cluster_all()\n",
    "for threashold in [0.5, 0.6, 0.7, 0.8, 0.85, 0.9, 0.95]:\n",
    "    print('Threashold : ' + str(threashold))\n",
    "    hc.score(anomaly_score, y, threashold)\n",
    "    print('--------------------')"
   ]
  },
  {
   "cell_type": "code",
   "execution_count": null,
   "id": "fb802bd4",
   "metadata": {},
   "outputs": [],
   "source": [
    "row = 320\n",
    "X, Y = hc.get_X_Y(row)\n",
    "yhat_row, y_row, anomaly_score_row = hc.cluster(X,Y,no_plot=False)\n",
    "print(yhat_row)\n",
    "print(y_row)\n",
    "print(anomaly_score_row)"
   ]
  },
  {
   "cell_type": "code",
   "execution_count": null,
   "id": "56e0455b",
   "metadata": {},
   "outputs": [],
   "source": []
  }
 ],
 "metadata": {
  "kernelspec": {
   "display_name": "Python 3",
   "language": "python",
   "name": "python3"
  },
  "language_info": {
   "codemirror_mode": {
    "name": "ipython",
    "version": 3
   },
   "file_extension": ".py",
   "mimetype": "text/x-python",
   "name": "python",
   "nbconvert_exporter": "python",
   "pygments_lexer": "ipython3",
   "version": "3.8.8"
  }
 },
 "nbformat": 4,
 "nbformat_minor": 5
}
