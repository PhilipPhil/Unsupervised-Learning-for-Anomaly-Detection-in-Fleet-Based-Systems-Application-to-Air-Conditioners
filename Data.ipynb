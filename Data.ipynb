{
 "cells": [
  {
   "cell_type": "code",
   "execution_count": 1,
   "id": "dc2d96d5",
   "metadata": {},
   "outputs": [
    {
     "ename": "FileNotFoundError",
     "evalue": "[Errno 2] No such file or directory: './ACs/ac_0.pkl'",
     "output_type": "error",
     "traceback": [
      "\u001b[1;31m---------------------------------------------------------------------------\u001b[0m",
      "\u001b[1;31mFileNotFoundError\u001b[0m                         Traceback (most recent call last)",
      "\u001b[1;32m<ipython-input-1-8f29327707ab>\u001b[0m in \u001b[0;36m<module>\u001b[1;34m\u001b[0m\n\u001b[0;32m      2\u001b[0m \u001b[0msac\u001b[0m \u001b[1;33m=\u001b[0m \u001b[0mSimulate\u001b[0m\u001b[1;33m(\u001b[0m\u001b[1;33m)\u001b[0m\u001b[1;33m\u001b[0m\u001b[1;33m\u001b[0m\u001b[0m\n\u001b[0;32m      3\u001b[0m \u001b[0msac\u001b[0m\u001b[1;33m.\u001b[0m\u001b[0mcreate_master_df\u001b[0m\u001b[1;33m(\u001b[0m\u001b[1;33m)\u001b[0m\u001b[1;33m\u001b[0m\u001b[1;33m\u001b[0m\u001b[0m\n\u001b[1;32m----> 4\u001b[1;33m \u001b[0msac\u001b[0m\u001b[1;33m.\u001b[0m\u001b[0mgenerate_ac_data\u001b[0m\u001b[1;33m(\u001b[0m\u001b[1;33m)\u001b[0m\u001b[1;33m\u001b[0m\u001b[1;33m\u001b[0m\u001b[0m\n\u001b[0m",
      "\u001b[1;32m~\\OneDrive\\Desktop\\Project\\tools\\Simulate.py\u001b[0m in \u001b[0;36mgenerate_ac_data\u001b[1;34m(self)\u001b[0m\n\u001b[0;32m     50\u001b[0m \u001b[1;33m\u001b[0m\u001b[0m\n\u001b[0;32m     51\u001b[0m             \u001b[0mac_data\u001b[0m \u001b[1;33m=\u001b[0m \u001b[0mpd\u001b[0m\u001b[1;33m.\u001b[0m\u001b[0mDataFrame\u001b[0m\u001b[1;33m(\u001b[0m\u001b[0mac_data\u001b[0m\u001b[1;33m)\u001b[0m\u001b[1;33m.\u001b[0m\u001b[0mreset_index\u001b[0m\u001b[1;33m(\u001b[0m\u001b[0mdrop\u001b[0m\u001b[1;33m=\u001b[0m\u001b[1;32mTrue\u001b[0m\u001b[1;33m)\u001b[0m\u001b[1;33m\u001b[0m\u001b[1;33m\u001b[0m\u001b[0m\n\u001b[1;32m---> 52\u001b[1;33m             \u001b[0mac_data\u001b[0m\u001b[1;33m.\u001b[0m\u001b[0mto_pickle\u001b[0m\u001b[1;33m(\u001b[0m\u001b[1;34m\"./ACs/ac_\"\u001b[0m \u001b[1;33m+\u001b[0m \u001b[0mstr\u001b[0m\u001b[1;33m(\u001b[0m\u001b[0mi\u001b[0m\u001b[1;33m)\u001b[0m \u001b[1;33m+\u001b[0m \u001b[1;34m\".pkl\"\u001b[0m\u001b[1;33m)\u001b[0m\u001b[1;33m\u001b[0m\u001b[1;33m\u001b[0m\u001b[0m\n\u001b[0m",
      "\u001b[1;32m~\\anaconda3\\lib\\site-packages\\pandas\\core\\generic.py\u001b[0m in \u001b[0;36mto_pickle\u001b[1;34m(self, path, compression, protocol, storage_options)\u001b[0m\n\u001b[0;32m   2862\u001b[0m         \u001b[1;32mfrom\u001b[0m \u001b[0mpandas\u001b[0m\u001b[1;33m.\u001b[0m\u001b[0mio\u001b[0m\u001b[1;33m.\u001b[0m\u001b[0mpickle\u001b[0m \u001b[1;32mimport\u001b[0m \u001b[0mto_pickle\u001b[0m\u001b[1;33m\u001b[0m\u001b[1;33m\u001b[0m\u001b[0m\n\u001b[0;32m   2863\u001b[0m \u001b[1;33m\u001b[0m\u001b[0m\n\u001b[1;32m-> 2864\u001b[1;33m         to_pickle(\n\u001b[0m\u001b[0;32m   2865\u001b[0m             \u001b[0mself\u001b[0m\u001b[1;33m,\u001b[0m\u001b[1;33m\u001b[0m\u001b[1;33m\u001b[0m\u001b[0m\n\u001b[0;32m   2866\u001b[0m             \u001b[0mpath\u001b[0m\u001b[1;33m,\u001b[0m\u001b[1;33m\u001b[0m\u001b[1;33m\u001b[0m\u001b[0m\n",
      "\u001b[1;32m~\\anaconda3\\lib\\site-packages\\pandas\\io\\pickle.py\u001b[0m in \u001b[0;36mto_pickle\u001b[1;34m(obj, filepath_or_buffer, compression, protocol, storage_options)\u001b[0m\n\u001b[0;32m     88\u001b[0m         \u001b[0mprotocol\u001b[0m \u001b[1;33m=\u001b[0m \u001b[0mpickle\u001b[0m\u001b[1;33m.\u001b[0m\u001b[0mHIGHEST_PROTOCOL\u001b[0m\u001b[1;33m\u001b[0m\u001b[1;33m\u001b[0m\u001b[0m\n\u001b[0;32m     89\u001b[0m \u001b[1;33m\u001b[0m\u001b[0m\n\u001b[1;32m---> 90\u001b[1;33m     with get_handle(\n\u001b[0m\u001b[0;32m     91\u001b[0m         \u001b[0mfilepath_or_buffer\u001b[0m\u001b[1;33m,\u001b[0m\u001b[1;33m\u001b[0m\u001b[1;33m\u001b[0m\u001b[0m\n\u001b[0;32m     92\u001b[0m         \u001b[1;34m\"wb\"\u001b[0m\u001b[1;33m,\u001b[0m\u001b[1;33m\u001b[0m\u001b[1;33m\u001b[0m\u001b[0m\n",
      "\u001b[1;32m~\\anaconda3\\lib\\site-packages\\pandas\\io\\common.py\u001b[0m in \u001b[0;36mget_handle\u001b[1;34m(path_or_buf, mode, encoding, compression, memory_map, is_text, errors, storage_options)\u001b[0m\n\u001b[0;32m    649\u001b[0m         \u001b[1;32melse\u001b[0m\u001b[1;33m:\u001b[0m\u001b[1;33m\u001b[0m\u001b[1;33m\u001b[0m\u001b[0m\n\u001b[0;32m    650\u001b[0m             \u001b[1;31m# Binary mode\u001b[0m\u001b[1;33m\u001b[0m\u001b[1;33m\u001b[0m\u001b[1;33m\u001b[0m\u001b[0m\n\u001b[1;32m--> 651\u001b[1;33m             \u001b[0mhandle\u001b[0m \u001b[1;33m=\u001b[0m \u001b[0mopen\u001b[0m\u001b[1;33m(\u001b[0m\u001b[0mhandle\u001b[0m\u001b[1;33m,\u001b[0m \u001b[0mioargs\u001b[0m\u001b[1;33m.\u001b[0m\u001b[0mmode\u001b[0m\u001b[1;33m)\u001b[0m\u001b[1;33m\u001b[0m\u001b[1;33m\u001b[0m\u001b[0m\n\u001b[0m\u001b[0;32m    652\u001b[0m         \u001b[0mhandles\u001b[0m\u001b[1;33m.\u001b[0m\u001b[0mappend\u001b[0m\u001b[1;33m(\u001b[0m\u001b[0mhandle\u001b[0m\u001b[1;33m)\u001b[0m\u001b[1;33m\u001b[0m\u001b[1;33m\u001b[0m\u001b[0m\n\u001b[0;32m    653\u001b[0m \u001b[1;33m\u001b[0m\u001b[0m\n",
      "\u001b[1;31mFileNotFoundError\u001b[0m: [Errno 2] No such file or directory: './ACs/ac_0.pkl'"
     ]
    }
   ],
   "source": [
    "from tools.Simulate import Simulate\n",
    "sac = Simulate()\n",
    "sac.create_master_df()\n",
    "sac.generate_ac_data()"
   ]
  },
  {
   "cell_type": "code",
   "execution_count": null,
   "id": "0bbc87c7",
   "metadata": {},
   "outputs": [],
   "source": [
    "import pandas as pd\n",
    "import numpy as np\n",
    "import matplotlib.pyplot as plt"
   ]
  },
  {
   "cell_type": "code",
   "execution_count": null,
   "id": "7979d348",
   "metadata": {},
   "outputs": [],
   "source": [
    "data = pd.read_pickle(\"data/master_dataframe.pkl\")\n",
    "healthy = data[data[0]==0].iloc[:,1:]\n",
    "faulty = data[data[0]==1].iloc[:,1:]"
   ]
  },
  {
   "cell_type": "code",
   "execution_count": null,
   "id": "230d0bfc",
   "metadata": {},
   "outputs": [],
   "source": [
    "plt.figure(figsize=(8, 6), dpi=120)\n",
    "plt.suptitle(\"Real Power\")\n",
    "time = np.linspace(0,30,1500)\n",
    "\n",
    "# Healthy\n",
    "plt.subplot(2, 2, 1)\n",
    "plt.tight_layout()\n",
    "for i in range(len(healthy)):\n",
    "    plt.plot(time, healthy.iloc[i, :1500])\n",
    "plt.title(\"Healthy\")\n",
    "plt.xlabel('Time seconds')\n",
    "plt.ylabel('Watts')\n",
    "\n",
    "# Faulty\n",
    "plt.subplot(2, 2, 2)\n",
    "plt.tight_layout()\n",
    "for i in range(len(faulty)):\n",
    "    plt.plot(time, faulty.iloc[i, :1500])\n",
    "plt.title(\"Faulty\")\n",
    "plt.xlabel('Time seconds')\n",
    "plt.ylabel('Watts')\n",
    "\n",
    "# Both\n",
    "plt.subplot(2, 1, 2)\n",
    "plt.tight_layout()\n",
    "for i in range(len(healthy)):\n",
    "    plt.plot(time, healthy.iloc[i, :1500], 'green')\n",
    "plt.plot(time, healthy.iloc[i, :1500], 'green', label='Healthy')\n",
    "for i in range(len(faulty)):\n",
    "    plt.plot(time, faulty.iloc[i, :1500], 'red')\n",
    "plt.plot(time, faulty.iloc[i, :1500], 'red', label='Faulty')\n",
    "plt.legend(loc = 'best')\n",
    "plt.xlabel('Time seconds')\n",
    "plt.ylabel('Watts')"
   ]
  },
  {
   "cell_type": "code",
   "execution_count": null,
   "id": "9b3d2b0c",
   "metadata": {},
   "outputs": [],
   "source": [
    "plt.figure(figsize=(8, 6), dpi=120)\n",
    "plt.suptitle(\"Reactive Power\")\n",
    "time = np.linspace(0,30,1500)\n",
    "\n",
    "# Healthy\n",
    "plt.subplot(2, 2, 1)\n",
    "plt.tight_layout()\n",
    "for i in range(len(healthy)):\n",
    "    plt.plot(time, healthy.iloc[i, 1500:3000])\n",
    "plt.title(\"Healthy\")\n",
    "plt.xlabel('Time seconds')\n",
    "plt.ylabel('Volt-ampere reactive')\n",
    "\n",
    "# Faulty\n",
    "plt.subplot(2, 2, 2)\n",
    "plt.tight_layout()\n",
    "for i in range(len(faulty)):\n",
    "    plt.plot(time, faulty.iloc[i, 1500:3000])\n",
    "plt.title(\"Faulty\")\n",
    "plt.xlabel('Time seconds')\n",
    "plt.ylabel('Volt-ampere reactive')\n",
    "\n",
    "# Both\n",
    "plt.subplot(2, 1, 2)\n",
    "plt.tight_layout()\n",
    "for i in range(len(healthy)):\n",
    "    plt.plot(time, healthy.iloc[i, 1500:3000], 'green')\n",
    "plt.plot(time, healthy.iloc[i, 1500:3000], 'green', label='Healthy')\n",
    "for i in range(len(faulty)):\n",
    "    plt.plot(time, faulty.iloc[i, 1500:3000], 'red')\n",
    "plt.plot(time, faulty.iloc[i, 1500:3000], 'red', label='Faulty')\n",
    "plt.legend(loc = 'best')\n",
    "plt.xlabel('Time seconds')\n",
    "plt.ylabel('Volt-ampere reactive')"
   ]
  },
  {
   "cell_type": "code",
   "execution_count": null,
   "id": "0640d0c3",
   "metadata": {},
   "outputs": [],
   "source": [
    "plt.figure(figsize=(8, 6), dpi=120)\n",
    "plt.suptitle(\"Total Harmonic Distortion\")\n",
    "time = np.linspace(0,30,1500)\n",
    "\n",
    "# Healthy\n",
    "plt.subplot(2, 2, 1)\n",
    "plt.tight_layout()\n",
    "for i in range(len(healthy)):\n",
    "    plt.plot(time, healthy.iloc[i, 3000:])\n",
    "plt.title(\"Healthy\")\n",
    "plt.xlabel('Time seconds')\n",
    "plt.ylabel('Total Harmonic Distortion')\n",
    "\n",
    "# Faulty\n",
    "plt.subplot(2, 2, 2)\n",
    "plt.tight_layout()\n",
    "for i in range(len(faulty)):\n",
    "    plt.plot(time, faulty.iloc[i, 3000:])\n",
    "plt.title(\"Faulty\")\n",
    "plt.xlabel('Time seconds')\n",
    "plt.ylabel('Total Harmonic Distortion')\n",
    "\n",
    "# Both\n",
    "plt.subplot(2, 1, 2)\n",
    "plt.tight_layout()\n",
    "for i in range(len(healthy)):\n",
    "    plt.plot(time, healthy.iloc[i, 3000:], 'green')\n",
    "plt.plot(time, healthy.iloc[i, 3000:], 'green', label='Healthy')\n",
    "for i in range(len(faulty)):\n",
    "    plt.plot(time, faulty.iloc[i, 3000:], 'red')\n",
    "plt.plot(time, faulty.iloc[i, 3000:], 'red', label='Faulty')\n",
    "plt.legend(loc = 'best')\n",
    "plt.xlabel('Time seconds')\n",
    "plt.ylabel('Total Harmonic Distortion')"
   ]
  }
 ],
 "metadata": {
  "kernelspec": {
   "display_name": "Python 3",
   "language": "python",
   "name": "python3"
  },
  "language_info": {
   "codemirror_mode": {
    "name": "ipython",
    "version": 3
   },
   "file_extension": ".py",
   "mimetype": "text/x-python",
   "name": "python",
   "nbconvert_exporter": "python",
   "pygments_lexer": "ipython3",
   "version": "3.8.8"
  }
 },
 "nbformat": 4,
 "nbformat_minor": 5
}
