{
 "cells": [
  {
   "cell_type": "code",
   "execution_count": null,
   "id": "6e0de3d5",
   "metadata": {},
   "outputs": [
    {
     "name": "stdout",
     "output_type": "stream",
     "text": [
      "----------\n",
      "Features used: all\n",
      "0.964\n",
      "[0.828, 0.911, 0.963, 0.964, 0.96, 0.955, 0.947]\n",
      "[0.57, 0.58, 0.59, 0.58, 0.6, 0.57, 0.57]\n",
      "[0.2, 0.3, 0.4, 0.5, 0.6, 0.7, 0.8]\n",
      "----------\n",
      "----------\n",
      "Features used: real\n",
      "0.936\n",
      "[0.836, 0.897, 0.936, 0.932, 0.925, 0.915, 0.903]\n",
      "[0.45, 0.45, 0.46, 0.44, 0.44, 0.44, 0.44]\n",
      "[0.2, 0.3, 0.4, 0.5, 0.6, 0.7, 0.8]\n",
      "----------\n",
      "----------\n",
      "Features used: reactive\n",
      "0.972\n",
      "[0.861, 0.923, 0.971, 0.972, 0.97, 0.965, 0.958]\n",
      "[0.45, 0.44, 0.45, 0.44, 0.47, 0.47, 0.48]\n",
      "[0.2, 0.3, 0.4, 0.5, 0.6, 0.7, 0.8]\n",
      "----------\n",
      "----------\n",
      "Features used: harmonic\n"
     ]
    }
   ],
   "source": [
    "import time\n",
    "from tools.KNN import KNN\n",
    "\n",
    "ks = [0.2,0.3,0.4,0.5,0.6,0.7,0.8]\n",
    "\n",
    "for feature in ['all','real','reactive','harmonic']:\n",
    "    AUC_Scores = []\n",
    "    times = []\n",
    "\n",
    "    print('----------')\n",
    "    print('Features used: ' + feature)\n",
    "    \n",
    "    for k in ks:\n",
    "        knn = KNN(feature=feature, suppress_progress=True)\n",
    "        knn.k = k\n",
    "        \n",
    "        start = time.time()\n",
    "        anomaly_score, y = knn.cluster_all()\n",
    "        end = time.time()\n",
    "        \n",
    "        sc = round(knn.auc_score(anomaly_score, y), 3)\n",
    "        AUC_Scores.append(sc)\n",
    "\n",
    "        avrg_run = round(( (end - start)/1000 ), 2)\n",
    "        times.append( avrg_run )\n",
    "\n",
    "    print(max(AUC_Scores))\n",
    "    print(AUC_Scores)\n",
    "    print(times)\n",
    "    print(ks)\n",
    "\n",
    "    print('----------')"
   ]
  },
  {
   "cell_type": "code",
   "execution_count": null,
   "id": "e9ad1657",
   "metadata": {},
   "outputs": [],
   "source": []
  }
 ],
 "metadata": {
  "kernelspec": {
   "display_name": "Python 3",
   "language": "python",
   "name": "python3"
  },
  "language_info": {
   "codemirror_mode": {
    "name": "ipython",
    "version": 3
   },
   "file_extension": ".py",
   "mimetype": "text/x-python",
   "name": "python",
   "nbconvert_exporter": "python",
   "pygments_lexer": "ipython3",
   "version": "3.8.8"
  }
 },
 "nbformat": 4,
 "nbformat_minor": 5
}
