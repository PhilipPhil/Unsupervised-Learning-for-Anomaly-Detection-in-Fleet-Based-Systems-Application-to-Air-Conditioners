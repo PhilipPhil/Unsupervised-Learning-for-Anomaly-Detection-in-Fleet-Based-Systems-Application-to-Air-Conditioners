{
 "cells": [
  {
   "cell_type": "code",
   "execution_count": 1,
   "id": "a8179012",
   "metadata": {},
   "outputs": [],
   "source": [
    "import pandas as pd\n",
    "import numpy as np\n",
    "import os\n",
    "\n",
    "from sklearn.ensemble import IsolationForest\n",
    "\n",
    "import matplotlib.pyplot as plt\n",
    "from matplotlib.pyplot import figure\n",
    "from sklearn.metrics import *\n",
    "from collections import Counter"
   ]
  },
  {
   "cell_type": "code",
   "execution_count": 2,
   "id": "7ef3db7c",
   "metadata": {},
   "outputs": [
    {
     "ename": "NameError",
     "evalue": "name 'k' is not defined",
     "output_type": "error",
     "traceback": [
      "\u001b[1;31m---------------------------------------------------------------------------\u001b[0m",
      "\u001b[1;31mNameError\u001b[0m                                 Traceback (most recent call last)",
      "\u001b[1;32m<ipython-input-2-e29e34d33d26>\u001b[0m in \u001b[0;36m<module>\u001b[1;34m\u001b[0m\n\u001b[1;32m----> 1\u001b[1;33m \u001b[1;32mclass\u001b[0m \u001b[0miForest\u001b[0m\u001b[1;33m:\u001b[0m\u001b[1;33m\u001b[0m\u001b[1;33m\u001b[0m\u001b[0m\n\u001b[0m\u001b[0;32m      2\u001b[0m \u001b[1;33m\u001b[0m\u001b[0m\n\u001b[0;32m      3\u001b[0m     \u001b[1;32mdef\u001b[0m \u001b[0m__init__\u001b[0m\u001b[1;33m(\u001b[0m\u001b[0mself\u001b[0m\u001b[1;33m)\u001b[0m\u001b[1;33m:\u001b[0m\u001b[1;33m\u001b[0m\u001b[1;33m\u001b[0m\u001b[0m\n\u001b[0;32m      4\u001b[0m         \u001b[0mself\u001b[0m\u001b[1;33m.\u001b[0m\u001b[0mACs\u001b[0m \u001b[1;33m=\u001b[0m \u001b[1;33m[\u001b[0m\u001b[1;33m]\u001b[0m\u001b[1;33m\u001b[0m\u001b[1;33m\u001b[0m\u001b[0m\n\u001b[0;32m      5\u001b[0m         \u001b[1;32mfor\u001b[0m \u001b[0mac_name\u001b[0m \u001b[1;32min\u001b[0m \u001b[0mos\u001b[0m\u001b[1;33m.\u001b[0m\u001b[0mlistdir\u001b[0m\u001b[1;33m(\u001b[0m\u001b[1;34m'./ACs'\u001b[0m\u001b[1;33m)\u001b[0m\u001b[1;33m:\u001b[0m\u001b[1;33m\u001b[0m\u001b[1;33m\u001b[0m\u001b[0m\n",
      "\u001b[1;32m<ipython-input-2-e29e34d33d26>\u001b[0m in \u001b[0;36miForest\u001b[1;34m()\u001b[0m\n\u001b[0;32m     51\u001b[0m         \u001b[0mprint\u001b[0m\u001b[1;33m(\u001b[0m\u001b[1;34m'AUC score: %f'\u001b[0m \u001b[1;33m%\u001b[0m \u001b[0mAUC\u001b[0m\u001b[1;33m)\u001b[0m\u001b[1;33m\u001b[0m\u001b[1;33m\u001b[0m\u001b[0m\n\u001b[0;32m     52\u001b[0m \u001b[1;33m\u001b[0m\u001b[0m\n\u001b[1;32m---> 53\u001b[1;33m     \u001b[1;32mdef\u001b[0m \u001b[0mscore\u001b[0m\u001b[1;33m(\u001b[0m\u001b[0mself\u001b[0m\u001b[1;33m,\u001b[0m \u001b[0manomaly_score\u001b[0m\u001b[1;33m:\u001b[0m \u001b[0mlist\u001b[0m\u001b[1;33m,\u001b[0m \u001b[0my\u001b[0m\u001b[1;33m:\u001b[0m \u001b[0mlist\u001b[0m\u001b[1;33m,\u001b[0m \u001b[0mthreashold\u001b[0m\u001b[1;33m=\u001b[0m\u001b[1;36m0.8\u001b[0m\u001b[1;33m)\u001b[0m \u001b[1;33m->\u001b[0m \u001b[0mk\u001b[0m\u001b[1;33m:\u001b[0m\u001b[1;33m\u001b[0m\u001b[1;33m\u001b[0m\u001b[0m\n\u001b[0m\u001b[0;32m     54\u001b[0m \u001b[1;33m\u001b[0m\u001b[0m\n\u001b[0;32m     55\u001b[0m         \u001b[0myhat\u001b[0m \u001b[1;33m=\u001b[0m \u001b[1;33m[\u001b[0m \u001b[1;36m1\u001b[0m \u001b[1;32mif\u001b[0m \u001b[0my_i\u001b[0m \u001b[1;33m>=\u001b[0m \u001b[0mthreashold\u001b[0m \u001b[1;32melse\u001b[0m \u001b[1;36m0\u001b[0m \u001b[1;32mfor\u001b[0m \u001b[0my_i\u001b[0m \u001b[1;32min\u001b[0m \u001b[0manomaly_score\u001b[0m\u001b[1;33m]\u001b[0m\u001b[1;33m\u001b[0m\u001b[1;33m\u001b[0m\u001b[0m\n",
      "\u001b[1;31mNameError\u001b[0m: name 'k' is not defined"
     ]
    }
   ],
   "source": [
    "class iForest:\n",
    "\n",
    "    def __init__(self):\n",
    "        self.ACs = []\n",
    "        for ac_name in os.listdir('./ACs'):\n",
    "            ac_i = pd.read_pickle('./ACs/'+ac_name)\n",
    "            self.ACs.append(ac_i)\n",
    "        self.n_rows = len(self.ACs[0])\n",
    "\n",
    "    def get_X_Y(self, row: int) -> (pd.DataFrame, pd.DataFrame):\n",
    "        data = []\n",
    "        for AC in self.ACs:\n",
    "            AC = pd.DataFrame(AC)\n",
    "            data.append(AC.iloc[row,:].tolist())\n",
    "        data = pd.DataFrame(data).reset_index(drop=True)\n",
    "        X = data.iloc[:,1:]\n",
    "        Y = data.iloc[:,0]\n",
    "        \n",
    "        return X, Y.astype(int).tolist()   \n",
    "    \n",
    "    def cluster(self, x_row: pd.DataFrame) -> (list):\n",
    "                \n",
    "        clf = IsolationForest().fit(x_row)\n",
    "        y_hat = clf.decision_function(x_row)\n",
    "        labels = 1 - (y_hat - min(y_hat))/(max(y_hat) - min(y_hat))\n",
    "                    \n",
    "        anomaly_score = 1 - (y_hat - min(y_hat))/(max(y_hat) - min(y_hat))\n",
    "        \n",
    "        return anomaly_score.tolist()\n",
    "    \n",
    "    def cluster_all(self, do_score=False) -> (list, list):\n",
    "        \n",
    "        anomaly_score, y = [], []\n",
    "        \n",
    "        for row in range(self.n_rows):\n",
    "            print(row)\n",
    "            x_row, y_row = self.get_X_Y(row)\n",
    "            if sum(y_row) >= len(y_row)//2: \n",
    "                print('oops')\n",
    "\n",
    "            anomaly_score_row = self.cluster(x_row)\n",
    "            anomaly_score += anomaly_score_row\n",
    "            y += y_row\n",
    "                    \n",
    "        return anomaly_score, y\n",
    "    \n",
    "    def auc_score(self, anomaly_score: list, y: list):\n",
    "        # AUC\n",
    "        fpr, tpr, thresholds = roc_curve(y, anomaly_score)\n",
    "        AUC = auc(fpr, tpr)\n",
    "        print('AUC score: %f' % AUC)\n",
    "    \n",
    "    def score(self, anomaly_score: list, y: list, threashold=0.8) -> k:\n",
    "        \n",
    "        yhat = [ 1 if y_i >= threashold else 0 for y_i in anomaly_score]\n",
    "        \n",
    "        # accuracy: (tp + tn) / (p + n)\n",
    "        accuracy = accuracy_score(y, yhat)\n",
    "        print('Accuracy: %f' % accuracy)\n",
    "        # precision tp / (tp + fp)\n",
    "        precision = precision_score(y, yhat)\n",
    "        print('Precision: %f' % precision)\n",
    "        # recall: tp / (tp + fn) More important in this case\n",
    "        recall = recall_score(y, yhat)\n",
    "        print('Recall: %f' % recall)\n",
    "        # f1: 2 tp / (2 tp + fp + fn)\n",
    "        f1 = f1_score(y, yhat)\n",
    "        print('F1 score: %f' % f1)\n",
    "        return f1"
   ]
  },
  {
   "cell_type": "code",
   "execution_count": null,
   "id": "80eefe75",
   "metadata": {},
   "outputs": [],
   "source": [
    "ifo = iForest()\n",
    "anomaly_score, y = ifo.cluster_all()\n",
    "ifo.auc_score(anomaly_score, y)\n",
    "for p in [0.5,0.6,0.7,0.8,0.9]:\n",
    "    print(p)\n",
    "    ifo.score(anomaly_score, y, threashold=p)"
   ]
  }
 ],
 "metadata": {
  "kernelspec": {
   "display_name": "Python 3",
   "language": "python",
   "name": "python3"
  },
  "language_info": {
   "codemirror_mode": {
    "name": "ipython",
    "version": 3
   },
   "file_extension": ".py",
   "mimetype": "text/x-python",
   "name": "python",
   "nbconvert_exporter": "python",
   "pygments_lexer": "ipython3",
   "version": "3.8.8"
  }
 },
 "nbformat": 4,
 "nbformat_minor": 5
}
