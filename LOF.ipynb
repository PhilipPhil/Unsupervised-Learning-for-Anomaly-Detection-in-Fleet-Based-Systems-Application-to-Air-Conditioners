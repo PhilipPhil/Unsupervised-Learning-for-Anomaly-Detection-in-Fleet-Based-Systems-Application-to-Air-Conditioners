{
 "cells": [
  {
   "cell_type": "code",
   "execution_count": null,
   "id": "b1fb7ac5",
   "metadata": {},
   "outputs": [
    {
     "name": "stdout",
     "output_type": "stream",
     "text": [
      "----------\n",
      "Features used: all\n",
      "0.99\n",
      "[0.81, 0.944, 0.988, 0.99, 0.988, 0.966, 0.901]\n",
      "[0.57, 0.58, 0.59, 0.59, 0.6, 0.57, 0.57]\n",
      "[0.2, 0.3, 0.4, 0.5, 0.6, 0.7, 0.8]\n",
      "----------\n",
      "----------\n",
      "Features used: real\n",
      "0.986\n",
      "[0.815, 0.943, 0.984, 0.986, 0.984, 0.962, 0.881]\n",
      "[0.45, 0.45, 0.46, 0.44, 0.44, 0.44, 0.44]\n",
      "[0.2, 0.3, 0.4, 0.5, 0.6, 0.7, 0.8]\n",
      "----------\n",
      "----------\n",
      "Features used: reactive\n",
      "0.991\n",
      "[0.806, 0.949, 0.99, 0.991, 0.989, 0.966, 0.901]\n",
      "[0.45, 0.44, 0.44, 0.44, 0.47, 0.47, 0.48]\n",
      "[0.2, 0.3, 0.4, 0.5, 0.6, 0.7, 0.8]\n",
      "----------\n",
      "----------\n",
      "Features used: harmonic\n"
     ]
    }
   ],
   "source": [
    "import time\n",
    "from tools.LOF import LOF\n",
    "\n",
    "ks = [0.2,0.3,0.4,0.5,0.6,0.7,0.8]\n",
    "\n",
    "for feature in ['all','real','reactive','harmonic']:\n",
    "    AUC_Scores = []\n",
    "    times = []\n",
    "\n",
    "    print('----------')\n",
    "    print('Features used: ' + feature)\n",
    "    \n",
    "    for k in ks:\n",
    "        lof = LOF(feature=feature, suppress_progress=True)\n",
    "        lof.k = k\n",
    "        \n",
    "        start = time.time()\n",
    "        anomaly_score, y = lof.cluster_all()\n",
    "        end = time.time()\n",
    "        \n",
    "        sc = round(lof.auc_score(anomaly_score, y), 3)\n",
    "        AUC_Scores.append(sc)\n",
    "\n",
    "        avrg_run = round(( (end - start)/1000 ), 2)\n",
    "        times.append( avrg_run )\n",
    "\n",
    "    print(max(AUC_Scores))\n",
    "    print(AUC_Scores)\n",
    "    print(times)\n",
    "    print(ks)\n",
    "\n",
    "    print('----------')"
   ]
  }
 ],
 "metadata": {
  "kernelspec": {
   "display_name": "Python 3",
   "language": "python",
   "name": "python3"
  },
  "language_info": {
   "codemirror_mode": {
    "name": "ipython",
    "version": 3
   },
   "file_extension": ".py",
   "mimetype": "text/x-python",
   "name": "python",
   "nbconvert_exporter": "python",
   "pygments_lexer": "ipython3",
   "version": "3.8.8"
  }
 },
 "nbformat": 4,
 "nbformat_minor": 5
}
