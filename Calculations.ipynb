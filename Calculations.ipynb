{
 "cells": [
  {
   "cell_type": "code",
   "execution_count": 1,
   "id": "a883c871",
   "metadata": {},
   "outputs": [],
   "source": [
    "import pandas as pd\n",
    "import numpy as np\n",
    "import matplotlib.pyplot as plt\n",
    "from sklearn.cluster import AgglomerativeClustering\n",
    "from tools.Conversion import Conversion\n",
    "\n",
    "# VOLTAGE_CHANNEL = 0\n",
    "# CURRENT_CHANNEL = 1\n",
    "\n",
    "# # rough assumption: 325 (V pp) covers ~65% of the dynamic range (15 bits because we have 16-bit unsigned int)\n",
    "# # hence 0.65 * 2 ** 15\n",
    "# DEFAULT_VOLTAGE_SCALING = 325 / (0.65 * 2 ** 15)\n",
    "\n",
    "# # rough assumption: 18 (A pp) covers ~70% of the dynamic range (15 bits because we have 16-bit unsigned int)\n",
    "# # hence 0.7 * 2 ** 15\n",
    "# DEFAULT_CURRENT_SCALING = 18 / (0.7 * 2 ** 15)\n",
    "\n",
    "# DEFAULT_SAMPLE_RATE = 10000  # Hz\n",
    "# DEFAULT_MAINS_FREQ = 50  # Hz"
   ]
  },
  {
   "cell_type": "markdown",
   "id": "e1c35b55",
   "metadata": {},
   "source": [
    "## Load Data"
   ]
  },
  {
   "cell_type": "code",
   "execution_count": 2,
   "id": "5bc88d40",
   "metadata": {},
   "outputs": [],
   "source": [
    "FILE_PATH = './raw_data/high_18_cold_fullyOpen_noFault/000009ISO2XXX-1623669570-2021-06-14-11-22-59-AAARBT'\n",
    "# FILE_PATH = './raw_data/high_18_cold_fullyOpen_noFault/000009ISO2XXX-1623669570-2021-06-14-11-23-29-AAARBT'\n",
    "# FILE_PATH = './raw_data/high_18_cold_fullyOpen_noFault/000009ISO2XXX-1623669570-2021-06-14-11-23-59-AAARBT'\n",
    "\n",
    "# FILE_PATH = './raw_data/high_18_cold_fullyOpen_noFault/000009ISO2XXX-1623668974-2021-06-14-11-09-34-AAARBS'\n",
    "\n",
    "data = np.fromfile(FILE_PATH, dtype='uint16').reshape(-1,2)"
   ]
  },
  {
   "cell_type": "code",
   "execution_count": 3,
   "id": "9068eed2",
   "metadata": {},
   "outputs": [],
   "source": [
    "# recentered = sample_data - sample_data.mean(axis=0)\n",
    "# recentered[:, VOLTAGE_CHANNEL] *= DEFAULT_VOLTAGE_SCALING\n",
    "# recentered[:, CURRENT_CHANNEL] *= DEFAULT_CURRENT_SCALING\n",
    "# voltage, current = recentered[:, VOLTAGE_CHANNEL], recentered[:, CURRENT_CHANNEL]\n",
    "conversion = Conversion(data)"
   ]
  },
  {
   "cell_type": "code",
   "execution_count": 4,
   "id": "1507f809",
   "metadata": {},
   "outputs": [
    {
     "ename": "NameError",
     "evalue": "name 'current' is not defined",
     "output_type": "error",
     "traceback": [
      "\u001b[1;31m---------------------------------------------------------------------------\u001b[0m",
      "\u001b[1;31mNameError\u001b[0m                                 Traceback (most recent call last)",
      "\u001b[1;32m<ipython-input-4-09d3832f09fc>\u001b[0m in \u001b[0;36m<module>\u001b[1;34m\u001b[0m\n\u001b[1;32m----> 1\u001b[1;33m \u001b[0mplt\u001b[0m\u001b[1;33m.\u001b[0m\u001b[0mplot\u001b[0m\u001b[1;33m(\u001b[0m\u001b[0mcurrent\u001b[0m\u001b[1;33m[\u001b[0m\u001b[1;33m:\u001b[0m\u001b[1;36m1000\u001b[0m\u001b[1;33m]\u001b[0m\u001b[1;33m)\u001b[0m\u001b[1;33m\u001b[0m\u001b[1;33m\u001b[0m\u001b[0m\n\u001b[0m",
      "\u001b[1;31mNameError\u001b[0m: name 'current' is not defined"
     ]
    }
   ],
   "source": [
    "plt.plot(conversion.current[:1000])"
   ]
  },
  {
   "cell_type": "code",
   "execution_count": null,
   "id": "5f7f0127",
   "metadata": {},
   "outputs": [],
   "source": [
    "plt.plot(conversion.voltage[:1000])"
   ]
  },
  {
   "cell_type": "code",
   "execution_count": null,
   "id": "3fbdcfdd",
   "metadata": {},
   "outputs": [],
   "source": [
    "print(len(conversion.reactive_power))\n",
    "plt.plot(conversion.reactive_power)"
   ]
  },
  {
   "cell_type": "code",
   "execution_count": null,
   "id": "f24c55e1",
   "metadata": {},
   "outputs": [],
   "source": [
    "print(len(conversion.real_power))\n",
    "plt.plot(conversion.real_power)"
   ]
  },
  {
   "cell_type": "code",
   "execution_count": null,
   "id": "e5053ec5",
   "metadata": {},
   "outputs": [],
   "source": [
    "print(len(conversion.thd))\n",
    "plt.plot(conversion.thd)"
   ]
  },
  {
   "cell_type": "markdown",
   "id": "b69ee00a",
   "metadata": {},
   "source": [
    "## Verv"
   ]
  },
  {
   "cell_type": "code",
   "execution_count": null,
   "id": "feb4418f",
   "metadata": {},
   "outputs": [],
   "source": [
    "import tools.ml_tools.io.utils.conversion as conversion\n",
    "import tools.ml_tools.utils.signals as signals"
   ]
  },
  {
   "cell_type": "code",
   "execution_count": null,
   "id": "42172a05",
   "metadata": {},
   "outputs": [],
   "source": [
    "sample_data = np.fromfile(FILE_PATH, dtype='uint16').reshape(-1,2)"
   ]
  },
  {
   "cell_type": "code",
   "execution_count": null,
   "id": "a7fd1172",
   "metadata": {},
   "outputs": [],
   "source": [
    "# First real power\n",
    "# Second Reactive power\n",
    "# Third total harmonic distortion\n",
    "power_data = conversion.uint16_to_cycle_avg_power(sample_data)"
   ]
  },
  {
   "cell_type": "code",
   "execution_count": null,
   "id": "83e8ad7d",
   "metadata": {},
   "outputs": [],
   "source": [
    "# Real Power\n",
    "print(len(power_data[:,0]))\n",
    "plt.plot(power_data[:,0])"
   ]
  },
  {
   "cell_type": "code",
   "execution_count": null,
   "id": "864ebe77",
   "metadata": {},
   "outputs": [],
   "source": [
    "# Reactive Power\n",
    "print(len(power_data[:,1]))\n",
    "plt.plot(power_data[:,1])"
   ]
  },
  {
   "cell_type": "code",
   "execution_count": null,
   "id": "fcf1790d",
   "metadata": {},
   "outputs": [],
   "source": [
    "# Total harmonic distortion\n",
    "print(len(power_data[:,2]))\n",
    "plt.plot(power_data[:,2])"
   ]
  }
 ],
 "metadata": {
  "kernelspec": {
   "display_name": "Python 3",
   "language": "python",
   "name": "python3"
  },
  "language_info": {
   "codemirror_mode": {
    "name": "ipython",
    "version": 3
   },
   "file_extension": ".py",
   "mimetype": "text/x-python",
   "name": "python",
   "nbconvert_exporter": "python",
   "pygments_lexer": "ipython3",
   "version": "3.8.8"
  }
 },
 "nbformat": 4,
 "nbformat_minor": 5
}
