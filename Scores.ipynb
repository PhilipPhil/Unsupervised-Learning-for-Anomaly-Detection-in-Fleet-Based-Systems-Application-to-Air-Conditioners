{
 "cells": [
  {
   "cell_type": "code",
   "execution_count": 1,
   "id": "098d91a0",
   "metadata": {},
   "outputs": [
    {
     "name": "stdout",
     "output_type": "stream",
     "text": [
      "0.00% complete\n",
      "5.00% complete\n",
      "10.00% complete\n",
      "15.00% complete\n",
      "20.00% complete\n",
      "25.00% complete\n",
      "30.00% complete\n",
      "35.00% complete\n",
      "40.00% complete\n",
      "45.00% complete\n",
      "50.00% complete\n",
      "55.00% complete\n",
      "60.00% complete\n",
      "65.00% complete\n",
      "70.00% complete\n",
      "75.00% complete\n",
      "80.00% complete\n",
      "85.00% complete\n",
      "90.00% complete\n",
      "95.00% complete\n"
     ]
    },
    {
     "data": {
      "text/plain": [
       "0.9651041666666668"
      ]
     },
     "execution_count": 1,
     "metadata": {},
     "output_type": "execute_result"
    }
   ],
   "source": [
    "from tools.KNN import KNN\n",
    "knn = KNN()\n",
    "anomaly_score, y = knn.cluster_all()\n",
    "knn.auc_score(anomaly_score, y)"
   ]
  },
  {
   "cell_type": "code",
   "execution_count": null,
   "id": "fa38d097",
   "metadata": {},
   "outputs": [
    {
     "name": "stdout",
     "output_type": "stream",
     "text": [
      "0.00% complete\n",
      "5.00% complete\n",
      "10.00% complete\n",
      "15.00% complete\n",
      "20.00% complete\n"
     ]
    }
   ],
   "source": [
    "from tools.HierarchicalClustering import HierarchicalClustering\n",
    "hic = HierarchicalClustering()\n",
    "anomaly_score, y = hic.cluster_all()\n",
    "hic.auc_score(anomaly_score, y)"
   ]
  },
  {
   "cell_type": "code",
   "execution_count": null,
   "id": "47e8f7a6",
   "metadata": {},
   "outputs": [],
   "source": [
    "from tools.iForest import iForest\n",
    "ifo = iForest()\n",
    "anomaly_score, y = ifo.cluster_all()\n",
    "ifo.auc_score(anomaly_score, y)"
   ]
  },
  {
   "cell_type": "code",
   "execution_count": null,
   "id": "b8dc83bb",
   "metadata": {},
   "outputs": [],
   "source": []
  }
 ],
 "metadata": {
  "kernelspec": {
   "display_name": "Python 3",
   "language": "python",
   "name": "python3"
  },
  "language_info": {
   "codemirror_mode": {
    "name": "ipython",
    "version": 3
   },
   "file_extension": ".py",
   "mimetype": "text/x-python",
   "name": "python",
   "nbconvert_exporter": "python",
   "pygments_lexer": "ipython3",
   "version": "3.8.8"
  }
 },
 "nbformat": 4,
 "nbformat_minor": 5
}
