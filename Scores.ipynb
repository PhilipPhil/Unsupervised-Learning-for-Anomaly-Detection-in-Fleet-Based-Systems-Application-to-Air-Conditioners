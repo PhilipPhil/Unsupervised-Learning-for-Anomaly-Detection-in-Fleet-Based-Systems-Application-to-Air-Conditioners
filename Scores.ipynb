{
 "cells": [
  {
   "cell_type": "code",
   "execution_count": 1,
   "id": "446bab53",
   "metadata": {},
   "outputs": [
    {
     "name": "stdout",
     "output_type": "stream",
     "text": [
      "0% complete\n",
      "5% complete\n",
      "10% complete\n",
      "15% complete\n",
      "20% complete\n",
      "25% complete\n",
      "30% complete\n",
      "35% complete\n",
      "40% complete\n",
      "45% complete\n",
      "50% complete\n",
      "55% complete\n",
      "60% complete\n",
      "65% complete\n",
      "70% complete\n",
      "75% complete\n",
      "80% complete\n",
      "85% complete\n",
      "90% complete\n",
      "95% complete\n",
      "100% complete\n",
      "0.9613416164658635\n"
     ]
    },
    {
     "data": {
      "image/png": "[encoded data removed]",
      "text/plain": [
       "<Figure size 1200x360 with 2 Axes>"
      ]
     },
     "metadata": {
      "needs_background": "light"
     },
     "output_type": "display_data"
    }
   ],
   "source": [
    "# 4.2\n",
    "from tools.HierarchicalClustering import HierarchicalClustering\n",
    "hic = HierarchicalClustering()\n",
    "anomaly_score, y = hic.cluster_all()\n",
    "print(hic.auc_score(anomaly_score, y))\n",
    "\n",
    "from scipy.cluster.hierarchy import dendrogram, linkage\n",
    "from matplotlib import pyplot as plt\n",
    "\n",
    "def plot_dendrogram(row):\n",
    "    x_row, y_row = hic.get_X_Y(row)\n",
    "    linked = linkage(x_row, 'average')\n",
    "    labelList = ['Faulty' if x else 'Healthy' for x in y_row]\n",
    "    plt1 = dendrogram(linked,\n",
    "                orientation='top',\n",
    "                leaf_rotation=45,\n",
    "                labels=labelList,\n",
    "                distance_sort='descending',\n",
    "                show_leaf_counts=True,\n",
    "                color_threshold= 18.93)\n",
    "    return plt1\n",
    "\n",
    "plt.figure(figsize=(10, 3), dpi=120)\n",
    "plt.suptitle('Agglomerative Hierarchical Clustering Dendrogram')\n",
    "\n",
    "plt.subplot(1, 2, 1)\n",
    "plt.xlabel('AC State')\n",
    "plt.ylabel('Distance')\n",
    "plt1 = plot_dendrogram(0)\n",
    "\n",
    "\n",
    "plt.subplot(1, 2, 2)\n",
    "plt.xlabel('AC State')\n",
    "plt.ylabel('Distance')\n",
    "plt2 = plot_dendrogram(10)"
   ]
  },
  {
   "cell_type": "code",
   "execution_count": 2,
   "id": "e517b36d",
   "metadata": {},
   "outputs": [
    {
     "name": "stdout",
     "output_type": "stream",
     "text": [
      "0% complete\n",
      "5% complete\n",
      "10% complete\n",
      "15% complete\n",
      "20% complete\n",
      "25% complete\n",
      "30% complete\n",
      "35% complete\n",
      "40% complete\n",
      "45% complete\n",
      "50% complete\n",
      "55% complete\n",
      "60% complete\n",
      "65% complete\n",
      "70% complete\n",
      "75% complete\n",
      "80% complete\n",
      "85% complete\n",
      "90% complete\n",
      "95% complete\n",
      "100% complete\n"
     ]
    },
    {
     "data": {
      "text/plain": [
       "0.9793298192771085"
      ]
     },
     "execution_count": 2,
     "metadata": {},
     "output_type": "execute_result"
    }
   ],
   "source": [
    "# 4.3\n",
    "from tools.KNN import KNN\n",
    "knn = KNN()\n",
    "anomaly_score, y = knn.cluster_all()\n",
    "knn.auc_score(anomaly_score, y)"
   ]
  },
  {
   "cell_type": "code",
   "execution_count": 3,
   "id": "6b2742a4",
   "metadata": {},
   "outputs": [
    {
     "name": "stdout",
     "output_type": "stream",
     "text": [
      "0% complete\n",
      "5% complete\n",
      "10% complete\n",
      "15% complete\n",
      "20% complete\n",
      "25% complete\n",
      "30% complete\n",
      "35% complete\n",
      "40% complete\n",
      "45% complete\n",
      "50% complete\n",
      "55% complete\n",
      "60% complete\n",
      "65% complete\n",
      "70% complete\n",
      "75% complete\n",
      "80% complete\n",
      "85% complete\n",
      "90% complete\n",
      "95% complete\n",
      "100% complete\n"
     ]
    },
    {
     "data": {
      "text/plain": [
       "0.9858207831325302"
      ]
     },
     "execution_count": 3,
     "metadata": {},
     "output_type": "execute_result"
    }
   ],
   "source": [
    "# 4.4\n",
    "from tools.LOF import LOF\n",
    "lof = LOF()\n",
    "anomaly_score, y = lof.cluster_all()\n",
    "lof.auc_score(anomaly_score, y)"
   ]
  },
  {
   "cell_type": "code",
   "execution_count": 4,
   "id": "720670de",
   "metadata": {},
   "outputs": [
    {
     "name": "stdout",
     "output_type": "stream",
     "text": [
      "0% complete\n",
      "5% complete\n",
      "10% complete\n",
      "15% complete\n",
      "20% complete\n",
      "25% complete\n",
      "30% complete\n",
      "35% complete\n",
      "40% complete\n",
      "45% complete\n",
      "50% complete\n",
      "55% complete\n",
      "60% complete\n",
      "65% complete\n",
      "70% complete\n",
      "75% complete\n",
      "80% complete\n",
      "85% complete\n",
      "90% complete\n",
      "95% complete\n",
      "100% complete\n"
     ]
    },
    {
     "data": {
      "text/plain": [
       "0.9694754016064256"
      ]
     },
     "execution_count": 4,
     "metadata": {},
     "output_type": "execute_result"
    }
   ],
   "source": [
    "# 4.5\n",
    "from tools.SVMOneClass import SVMOneClass\n",
    "svm = SVMOneClass()\n",
    "anomaly_score, y = svm.cluster_all()\n",
    "svm.auc_score(anomaly_score, y) # 0.963046875"
   ]
  },
  {
   "cell_type": "code",
   "execution_count": 5,
   "id": "59d408d3",
   "metadata": {},
   "outputs": [
    {
     "name": "stdout",
     "output_type": "stream",
     "text": [
      "0% complete\n",
      "5% complete\n",
      "10% complete\n",
      "15% complete\n",
      "20% complete\n",
      "25% complete\n",
      "30% complete\n",
      "35% complete\n",
      "40% complete\n",
      "45% complete\n",
      "50% complete\n",
      "55% complete\n",
      "60% complete\n",
      "65% complete\n",
      "70% complete\n",
      "75% complete\n",
      "80% complete\n",
      "85% complete\n",
      "90% complete\n",
      "95% complete\n",
      "100% complete\n"
     ]
    },
    {
     "data": {
      "text/plain": [
       "0.9781789658634539"
      ]
     },
     "execution_count": 5,
     "metadata": {},
     "output_type": "execute_result"
    }
   ],
   "source": [
    "# 4.6\n",
    "from tools.Iforest import Iforest\n",
    "ifo = Iforest()\n",
    "anomaly_score, y = ifo.cluster_all()\n",
    "ifo.auc_score(anomaly_score, y)"
   ]
  },
  {
   "cell_type": "code",
   "execution_count": 6,
   "id": "cc3d40da",
   "metadata": {},
   "outputs": [
    {
     "name": "stdout",
     "output_type": "stream",
     "text": [
      "0% complete\n",
      "5% complete\n",
      "10% complete\n",
      "15% complete\n",
      "20% complete\n",
      "25% complete\n",
      "30% complete\n",
      "35% complete\n",
      "40% complete\n",
      "45% complete\n",
      "50% complete\n",
      "55% complete\n",
      "60% complete\n",
      "65% complete\n",
      "70% complete\n",
      "75% complete\n",
      "80% complete\n",
      "85% complete\n",
      "90% complete\n",
      "95% complete\n",
      "100% complete\n"
     ]
    },
    {
     "data": {
      "text/plain": [
       "0.9092444779116465"
      ]
     },
     "execution_count": 6,
     "metadata": {},
     "output_type": "execute_result"
    }
   ],
   "source": [
    "# 4.7\n",
    "from tools.Inne import Inne\n",
    "inne = Inne()\n",
    "anomaly_score, y = inne.cluster_all()\n",
    "inne.auc_score(anomaly_score, y)"
   ]
  }
 ],
 "metadata": {
  "interpreter": {
   "hash": "f23faf4bfe871c203c8bec80520af5927fc7cb1ae3bd834ddf554ee587ad1c05"
  },
  "kernelspec": {
   "display_name": "Python 3",
   "language": "python",
   "name": "python3"
  },
  "language_info": {
   "codemirror_mode": {
    "name": "ipython",
    "version": 3
   },
   "file_extension": ".py",
   "mimetype": "text/x-python",
   "name": "python",
   "nbconvert_exporter": "python",
   "pygments_lexer": "ipython3",
   "version": "3.8.8"
  }
 },
 "nbformat": 4,
 "nbformat_minor": 5
}
