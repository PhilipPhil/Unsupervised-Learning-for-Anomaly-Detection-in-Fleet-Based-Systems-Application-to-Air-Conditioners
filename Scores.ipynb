{
 "cells": [
  {
   "cell_type": "code",
   "execution_count": 1,
   "id": "446bab53",
   "metadata": {},
   "outputs": [
    {
     "name": "stdout",
     "output_type": "stream",
     "text": [
      "0% complete\n",
      "25% complete\n",
      "50% complete\n",
      "75% complete\n",
      "100% complete\n",
      "----------\n",
      "Features used: all\n",
      "AUC score: 0.9553493814777667\n",
      "threashold, accuracy, precision, recall, f2\n",
      "0.05 (0.7238, 0.01039426523297491, 0.9666666666666667, 0.04982817869415808)\n",
      "0.1 (0.7238, 0.01039426523297491, 0.9666666666666667, 0.04982817869415808)\n",
      "0.15 (0.9263, 0.03790849673202614, 0.9666666666666667, 0.1638418079096045)\n",
      "0.2 (0.9263, 0.03790849673202614, 0.9666666666666667, 0.1638418079096045)\n",
      "0.25 (0.9605, 0.0665083135391924, 0.9333333333333333, 0.2587800369685767)\n",
      "0.3 (0.9605, 0.0665083135391924, 0.9333333333333333, 0.2587800369685767)\n",
      "0.35 (0.9668, 0.0782122905027933, 0.9333333333333333, 0.29288702928870297)\n",
      "0.4 (0.9668, 0.0782122905027933, 0.9333333333333333, 0.29288702928870297)\n",
      "0.45 (0.9674, 0.07954545454545454, 0.9333333333333333, 0.2966101694915254)\n",
      "0.5 (0.9674, 0.07954545454545454, 0.9333333333333333, 0.2966101694915254)\n",
      "0.55 (0.9674, 0.07954545454545454, 0.9333333333333333, 0.2966101694915254)\n",
      "0.6 (0.9679, 0.08069164265129683, 0.9333333333333333, 0.2997858672376873)\n",
      "0.65 (0.9679, 0.08069164265129683, 0.9333333333333333, 0.2997858672376873)\n",
      "0.7 (0.9679, 0.08069164265129683, 0.9333333333333333, 0.2997858672376873)\n",
      "0.75 (0.9679, 0.08069164265129683, 0.9333333333333333, 0.2997858672376873)\n",
      "0.8 (0.9676, 0.0650887573964497, 0.7333333333333333, 0.24017467248908295)\n",
      "0.85 (0.9676, 0.0650887573964497, 0.7333333333333333, 0.24017467248908295)\n",
      "0.9 (0.9688, 0.04516129032258064, 0.4666666666666667, 0.1627906976744186)\n",
      "0.95 (0.9688, 0.04516129032258064, 0.4666666666666667, 0.1627906976744186)\n",
      "----------\n",
      "0% complete\n",
      "25% complete\n",
      "50% complete\n"
     ]
    },
    {
     "ename": "KeyboardInterrupt",
     "evalue": "",
     "output_type": "error",
     "traceback": [
      "\u001b[1;31m---------------------------------------------------------------------------\u001b[0m",
      "\u001b[1;31mKeyboardInterrupt\u001b[0m                         Traceback (most recent call last)",
      "\u001b[1;32m<ipython-input-1-545c5ca8d69f>\u001b[0m in \u001b[0;36m<module>\u001b[1;34m\u001b[0m\n\u001b[0;32m      4\u001b[0m     \u001b[0mhic\u001b[0m \u001b[1;33m=\u001b[0m \u001b[0mHierarchicalClustering\u001b[0m\u001b[1;33m(\u001b[0m\u001b[0mfeature\u001b[0m\u001b[1;33m=\u001b[0m\u001b[0mfeature\u001b[0m\u001b[1;33m)\u001b[0m\u001b[1;33m\u001b[0m\u001b[1;33m\u001b[0m\u001b[0m\n\u001b[0;32m      5\u001b[0m     \u001b[0mhic\u001b[0m\u001b[1;33m.\u001b[0m\u001b[0mdistance_threshold\u001b[0m \u001b[1;33m=\u001b[0m \u001b[0mdistance_threshold\u001b[0m\u001b[1;33m\u001b[0m\u001b[1;33m\u001b[0m\u001b[0m\n\u001b[1;32m----> 6\u001b[1;33m     \u001b[0mhic\u001b[0m\u001b[1;33m.\u001b[0m\u001b[0mcluster_all\u001b[0m\u001b[1;33m(\u001b[0m\u001b[1;33m)\u001b[0m\u001b[1;33m\u001b[0m\u001b[1;33m\u001b[0m\u001b[0m\n\u001b[0m\u001b[0;32m      7\u001b[0m     \u001b[0mprint\u001b[0m\u001b[1;33m(\u001b[0m\u001b[1;34m'----------'\u001b[0m\u001b[1;33m)\u001b[0m\u001b[1;33m\u001b[0m\u001b[1;33m\u001b[0m\u001b[0m\n\u001b[0;32m      8\u001b[0m     \u001b[0mprint\u001b[0m\u001b[1;33m(\u001b[0m\u001b[1;34m'Features used: '\u001b[0m \u001b[1;33m+\u001b[0m \u001b[0mfeature\u001b[0m\u001b[1;33m)\u001b[0m\u001b[1;33m\u001b[0m\u001b[1;33m\u001b[0m\u001b[0m\n",
      "\u001b[1;32m~\\OneDrive\\Desktop\\Project\\tools\\Cluster.py\u001b[0m in \u001b[0;36mcluster_all\u001b[1;34m(self)\u001b[0m\n\u001b[0;32m     54\u001b[0m             \u001b[1;32mif\u001b[0m \u001b[0mrow\u001b[0m \u001b[1;33m%\u001b[0m \u001b[1;33m(\u001b[0m\u001b[0mself\u001b[0m\u001b[1;33m.\u001b[0m\u001b[0mn_rows\u001b[0m\u001b[1;33m//\u001b[0m\u001b[1;36m4\u001b[0m\u001b[1;33m)\u001b[0m \u001b[1;33m==\u001b[0m \u001b[1;36m0\u001b[0m \u001b[1;32mand\u001b[0m \u001b[1;32mnot\u001b[0m \u001b[0mself\u001b[0m\u001b[1;33m.\u001b[0m\u001b[0msuppress_progress\u001b[0m\u001b[1;33m:\u001b[0m \u001b[0mprint\u001b[0m\u001b[1;33m(\u001b[0m\u001b[0mstr\u001b[0m\u001b[1;33m(\u001b[0m\u001b[0mint\u001b[0m\u001b[1;33m(\u001b[0m\u001b[0mrow\u001b[0m\u001b[1;33m/\u001b[0m\u001b[0mself\u001b[0m\u001b[1;33m.\u001b[0m\u001b[0mn_rows\u001b[0m \u001b[1;33m*\u001b[0m \u001b[1;36m100\u001b[0m\u001b[1;33m)\u001b[0m\u001b[1;33m)\u001b[0m \u001b[1;33m+\u001b[0m \u001b[1;34m'% complete'\u001b[0m\u001b[1;33m)\u001b[0m\u001b[1;33m\u001b[0m\u001b[1;33m\u001b[0m\u001b[0m\n\u001b[0;32m     55\u001b[0m \u001b[1;33m\u001b[0m\u001b[0m\n\u001b[1;32m---> 56\u001b[1;33m             \u001b[0mx_row\u001b[0m\u001b[1;33m,\u001b[0m \u001b[0my_row\u001b[0m \u001b[1;33m=\u001b[0m \u001b[0mself\u001b[0m\u001b[1;33m.\u001b[0m\u001b[0mget_X_Y\u001b[0m\u001b[1;33m(\u001b[0m\u001b[0mrow\u001b[0m\u001b[1;33m)\u001b[0m\u001b[1;33m\u001b[0m\u001b[1;33m\u001b[0m\u001b[0m\n\u001b[0m\u001b[0;32m     57\u001b[0m \u001b[1;33m\u001b[0m\u001b[0m\n\u001b[0;32m     58\u001b[0m             \u001b[1;32massert\u001b[0m \u001b[0msum\u001b[0m\u001b[1;33m(\u001b[0m\u001b[0my_row\u001b[0m\u001b[1;33m)\u001b[0m \u001b[1;33m<\u001b[0m \u001b[0mlen\u001b[0m\u001b[1;33m(\u001b[0m\u001b[0my_row\u001b[0m\u001b[1;33m)\u001b[0m\u001b[1;33m//\u001b[0m\u001b[1;36m2\u001b[0m\u001b[1;33m\u001b[0m\u001b[1;33m\u001b[0m\u001b[0m\n",
      "\u001b[1;32m~\\OneDrive\\Desktop\\Project\\tools\\Cluster.py\u001b[0m in \u001b[0;36mget_X_Y\u001b[1;34m(self, row)\u001b[0m\n\u001b[0;32m     33\u001b[0m             \u001b[0mAC\u001b[0m \u001b[1;33m=\u001b[0m \u001b[0mpd\u001b[0m\u001b[1;33m.\u001b[0m\u001b[0mDataFrame\u001b[0m\u001b[1;33m(\u001b[0m\u001b[0mAC\u001b[0m\u001b[1;33m)\u001b[0m\u001b[1;33m\u001b[0m\u001b[1;33m\u001b[0m\u001b[0m\n\u001b[0;32m     34\u001b[0m             \u001b[0mdata\u001b[0m\u001b[1;33m.\u001b[0m\u001b[0mappend\u001b[0m\u001b[1;33m(\u001b[0m\u001b[0mAC\u001b[0m\u001b[1;33m.\u001b[0m\u001b[0miloc\u001b[0m\u001b[1;33m[\u001b[0m\u001b[0mrow\u001b[0m\u001b[1;33m,\u001b[0m\u001b[1;33m:\u001b[0m\u001b[1;33m]\u001b[0m\u001b[1;33m.\u001b[0m\u001b[0mtolist\u001b[0m\u001b[1;33m(\u001b[0m\u001b[1;33m)\u001b[0m\u001b[1;33m)\u001b[0m\u001b[1;33m\u001b[0m\u001b[1;33m\u001b[0m\u001b[0m\n\u001b[1;32m---> 35\u001b[1;33m         \u001b[0mdata\u001b[0m \u001b[1;33m=\u001b[0m \u001b[0mpd\u001b[0m\u001b[1;33m.\u001b[0m\u001b[0mDataFrame\u001b[0m\u001b[1;33m(\u001b[0m\u001b[0mdata\u001b[0m\u001b[1;33m)\u001b[0m\u001b[1;33m.\u001b[0m\u001b[0mreset_index\u001b[0m\u001b[1;33m(\u001b[0m\u001b[0mdrop\u001b[0m\u001b[1;33m=\u001b[0m\u001b[1;32mTrue\u001b[0m\u001b[1;33m)\u001b[0m\u001b[1;33m\u001b[0m\u001b[1;33m\u001b[0m\u001b[0m\n\u001b[0m\u001b[0;32m     36\u001b[0m \u001b[1;33m\u001b[0m\u001b[0m\n\u001b[0;32m     37\u001b[0m         \u001b[0mX\u001b[0m \u001b[1;33m=\u001b[0m \u001b[0mdata\u001b[0m\u001b[1;33m.\u001b[0m\u001b[0miloc\u001b[0m\u001b[1;33m[\u001b[0m\u001b[1;33m:\u001b[0m\u001b[1;33m,\u001b[0m\u001b[1;36m1\u001b[0m\u001b[1;33m:\u001b[0m\u001b[1;33m]\u001b[0m\u001b[1;33m\u001b[0m\u001b[1;33m\u001b[0m\u001b[0m\n",
      "\u001b[1;32m~\\anaconda3\\lib\\site-packages\\pandas\\core\\frame.py\u001b[0m in \u001b[0;36m__init__\u001b[1;34m(self, data, index, columns, dtype, copy)\u001b[0m\n\u001b[0;32m    568\u001b[0m                     \u001b[1;32mif\u001b[0m \u001b[0mis_named_tuple\u001b[0m\u001b[1;33m(\u001b[0m\u001b[0mdata\u001b[0m\u001b[1;33m[\u001b[0m\u001b[1;36m0\u001b[0m\u001b[1;33m]\u001b[0m\u001b[1;33m)\u001b[0m \u001b[1;32mand\u001b[0m \u001b[0mcolumns\u001b[0m \u001b[1;32mis\u001b[0m \u001b[1;32mNone\u001b[0m\u001b[1;33m:\u001b[0m\u001b[1;33m\u001b[0m\u001b[1;33m\u001b[0m\u001b[0m\n\u001b[0;32m    569\u001b[0m                         \u001b[0mcolumns\u001b[0m \u001b[1;33m=\u001b[0m \u001b[0mdata\u001b[0m\u001b[1;33m[\u001b[0m\u001b[1;36m0\u001b[0m\u001b[1;33m]\u001b[0m\u001b[1;33m.\u001b[0m\u001b[0m_fields\u001b[0m\u001b[1;33m\u001b[0m\u001b[1;33m\u001b[0m\u001b[0m\n\u001b[1;32m--> 570\u001b[1;33m                     \u001b[0marrays\u001b[0m\u001b[1;33m,\u001b[0m \u001b[0mcolumns\u001b[0m \u001b[1;33m=\u001b[0m \u001b[0mto_arrays\u001b[0m\u001b[1;33m(\u001b[0m\u001b[0mdata\u001b[0m\u001b[1;33m,\u001b[0m \u001b[0mcolumns\u001b[0m\u001b[1;33m,\u001b[0m \u001b[0mdtype\u001b[0m\u001b[1;33m=\u001b[0m\u001b[0mdtype\u001b[0m\u001b[1;33m)\u001b[0m\u001b[1;33m\u001b[0m\u001b[1;33m\u001b[0m\u001b[0m\n\u001b[0m\u001b[0;32m    571\u001b[0m                     \u001b[0mcolumns\u001b[0m \u001b[1;33m=\u001b[0m \u001b[0mensure_index\u001b[0m\u001b[1;33m(\u001b[0m\u001b[0mcolumns\u001b[0m\u001b[1;33m)\u001b[0m\u001b[1;33m\u001b[0m\u001b[1;33m\u001b[0m\u001b[0m\n\u001b[0;32m    572\u001b[0m \u001b[1;33m\u001b[0m\u001b[0m\n",
      "\u001b[1;32m~\\anaconda3\\lib\\site-packages\\pandas\\core\\internals\\construction.py\u001b[0m in \u001b[0;36mto_arrays\u001b[1;34m(data, columns, coerce_float, dtype)\u001b[0m\n\u001b[0;32m    526\u001b[0m         \u001b[1;32mreturn\u001b[0m \u001b[1;33m[\u001b[0m\u001b[1;33m]\u001b[0m\u001b[1;33m,\u001b[0m \u001b[1;33m[\u001b[0m\u001b[1;33m]\u001b[0m  \u001b[1;31m# columns if columns is not None else []\u001b[0m\u001b[1;33m\u001b[0m\u001b[1;33m\u001b[0m\u001b[0m\n\u001b[0;32m    527\u001b[0m     \u001b[1;32mif\u001b[0m \u001b[0misinstance\u001b[0m\u001b[1;33m(\u001b[0m\u001b[0mdata\u001b[0m\u001b[1;33m[\u001b[0m\u001b[1;36m0\u001b[0m\u001b[1;33m]\u001b[0m\u001b[1;33m,\u001b[0m \u001b[1;33m(\u001b[0m\u001b[0mlist\u001b[0m\u001b[1;33m,\u001b[0m \u001b[0mtuple\u001b[0m\u001b[1;33m)\u001b[0m\u001b[1;33m)\u001b[0m\u001b[1;33m:\u001b[0m\u001b[1;33m\u001b[0m\u001b[1;33m\u001b[0m\u001b[0m\n\u001b[1;32m--> 528\u001b[1;33m         \u001b[1;32mreturn\u001b[0m \u001b[0m_list_to_arrays\u001b[0m\u001b[1;33m(\u001b[0m\u001b[0mdata\u001b[0m\u001b[1;33m,\u001b[0m \u001b[0mcolumns\u001b[0m\u001b[1;33m,\u001b[0m \u001b[0mcoerce_float\u001b[0m\u001b[1;33m=\u001b[0m\u001b[0mcoerce_float\u001b[0m\u001b[1;33m,\u001b[0m \u001b[0mdtype\u001b[0m\u001b[1;33m=\u001b[0m\u001b[0mdtype\u001b[0m\u001b[1;33m)\u001b[0m\u001b[1;33m\u001b[0m\u001b[1;33m\u001b[0m\u001b[0m\n\u001b[0m\u001b[0;32m    529\u001b[0m     \u001b[1;32melif\u001b[0m \u001b[0misinstance\u001b[0m\u001b[1;33m(\u001b[0m\u001b[0mdata\u001b[0m\u001b[1;33m[\u001b[0m\u001b[1;36m0\u001b[0m\u001b[1;33m]\u001b[0m\u001b[1;33m,\u001b[0m \u001b[0mabc\u001b[0m\u001b[1;33m.\u001b[0m\u001b[0mMapping\u001b[0m\u001b[1;33m)\u001b[0m\u001b[1;33m:\u001b[0m\u001b[1;33m\u001b[0m\u001b[1;33m\u001b[0m\u001b[0m\n\u001b[0;32m    530\u001b[0m         return _list_of_dict_to_arrays(\n",
      "\u001b[1;32m~\\anaconda3\\lib\\site-packages\\pandas\\core\\internals\\construction.py\u001b[0m in \u001b[0;36m_list_to_arrays\u001b[1;34m(data, columns, coerce_float, dtype)\u001b[0m\n\u001b[0;32m    567\u001b[0m     \u001b[1;32mtry\u001b[0m\u001b[1;33m:\u001b[0m\u001b[1;33m\u001b[0m\u001b[1;33m\u001b[0m\u001b[0m\n\u001b[0;32m    568\u001b[0m         \u001b[0mcolumns\u001b[0m \u001b[1;33m=\u001b[0m \u001b[0m_validate_or_indexify_columns\u001b[0m\u001b[1;33m(\u001b[0m\u001b[0mcontent\u001b[0m\u001b[1;33m,\u001b[0m \u001b[0mcolumns\u001b[0m\u001b[1;33m)\u001b[0m\u001b[1;33m\u001b[0m\u001b[1;33m\u001b[0m\u001b[0m\n\u001b[1;32m--> 569\u001b[1;33m         \u001b[0mresult\u001b[0m \u001b[1;33m=\u001b[0m \u001b[0m_convert_object_array\u001b[0m\u001b[1;33m(\u001b[0m\u001b[0mcontent\u001b[0m\u001b[1;33m,\u001b[0m \u001b[0mdtype\u001b[0m\u001b[1;33m=\u001b[0m\u001b[0mdtype\u001b[0m\u001b[1;33m,\u001b[0m \u001b[0mcoerce_float\u001b[0m\u001b[1;33m=\u001b[0m\u001b[0mcoerce_float\u001b[0m\u001b[1;33m)\u001b[0m\u001b[1;33m\u001b[0m\u001b[1;33m\u001b[0m\u001b[0m\n\u001b[0m\u001b[0;32m    570\u001b[0m     \u001b[1;32mexcept\u001b[0m \u001b[0mAssertionError\u001b[0m \u001b[1;32mas\u001b[0m \u001b[0me\u001b[0m\u001b[1;33m:\u001b[0m\u001b[1;33m\u001b[0m\u001b[1;33m\u001b[0m\u001b[0m\n\u001b[0;32m    571\u001b[0m         \u001b[1;32mraise\u001b[0m \u001b[0mValueError\u001b[0m\u001b[1;33m(\u001b[0m\u001b[0me\u001b[0m\u001b[1;33m)\u001b[0m \u001b[1;32mfrom\u001b[0m \u001b[0me\u001b[0m\u001b[1;33m\u001b[0m\u001b[1;33m\u001b[0m\u001b[0m\n",
      "\u001b[1;32m~\\anaconda3\\lib\\site-packages\\pandas\\core\\internals\\construction.py\u001b[0m in \u001b[0;36m_convert_object_array\u001b[1;34m(content, coerce_float, dtype)\u001b[0m\n\u001b[0;32m    734\u001b[0m         \u001b[1;32mreturn\u001b[0m \u001b[0marr\u001b[0m\u001b[1;33m\u001b[0m\u001b[1;33m\u001b[0m\u001b[0m\n\u001b[0;32m    735\u001b[0m \u001b[1;33m\u001b[0m\u001b[0m\n\u001b[1;32m--> 736\u001b[1;33m     \u001b[0marrays\u001b[0m \u001b[1;33m=\u001b[0m \u001b[1;33m[\u001b[0m\u001b[0mconvert\u001b[0m\u001b[1;33m(\u001b[0m\u001b[0marr\u001b[0m\u001b[1;33m)\u001b[0m \u001b[1;32mfor\u001b[0m \u001b[0marr\u001b[0m \u001b[1;32min\u001b[0m \u001b[0mcontent\u001b[0m\u001b[1;33m]\u001b[0m\u001b[1;33m\u001b[0m\u001b[1;33m\u001b[0m\u001b[0m\n\u001b[0m\u001b[0;32m    737\u001b[0m \u001b[1;33m\u001b[0m\u001b[0m\n\u001b[0;32m    738\u001b[0m     \u001b[1;32mreturn\u001b[0m \u001b[0marrays\u001b[0m\u001b[1;33m\u001b[0m\u001b[1;33m\u001b[0m\u001b[0m\n",
      "\u001b[1;32m~\\anaconda3\\lib\\site-packages\\pandas\\core\\internals\\construction.py\u001b[0m in \u001b[0;36m<listcomp>\u001b[1;34m(.0)\u001b[0m\n\u001b[0;32m    734\u001b[0m         \u001b[1;32mreturn\u001b[0m \u001b[0marr\u001b[0m\u001b[1;33m\u001b[0m\u001b[1;33m\u001b[0m\u001b[0m\n\u001b[0;32m    735\u001b[0m \u001b[1;33m\u001b[0m\u001b[0m\n\u001b[1;32m--> 736\u001b[1;33m     \u001b[0marrays\u001b[0m \u001b[1;33m=\u001b[0m \u001b[1;33m[\u001b[0m\u001b[0mconvert\u001b[0m\u001b[1;33m(\u001b[0m\u001b[0marr\u001b[0m\u001b[1;33m)\u001b[0m \u001b[1;32mfor\u001b[0m \u001b[0marr\u001b[0m \u001b[1;32min\u001b[0m \u001b[0mcontent\u001b[0m\u001b[1;33m]\u001b[0m\u001b[1;33m\u001b[0m\u001b[1;33m\u001b[0m\u001b[0m\n\u001b[0m\u001b[0;32m    737\u001b[0m \u001b[1;33m\u001b[0m\u001b[0m\n\u001b[0;32m    738\u001b[0m     \u001b[1;32mreturn\u001b[0m \u001b[0marrays\u001b[0m\u001b[1;33m\u001b[0m\u001b[1;33m\u001b[0m\u001b[0m\n",
      "\u001b[1;32m~\\anaconda3\\lib\\site-packages\\pandas\\core\\internals\\construction.py\u001b[0m in \u001b[0;36mconvert\u001b[1;34m(arr)\u001b[0m\n\u001b[0;32m    730\u001b[0m     \u001b[1;32mdef\u001b[0m \u001b[0mconvert\u001b[0m\u001b[1;33m(\u001b[0m\u001b[0marr\u001b[0m\u001b[1;33m)\u001b[0m\u001b[1;33m:\u001b[0m\u001b[1;33m\u001b[0m\u001b[1;33m\u001b[0m\u001b[0m\n\u001b[0;32m    731\u001b[0m         \u001b[1;32mif\u001b[0m \u001b[0mdtype\u001b[0m \u001b[1;33m!=\u001b[0m \u001b[0mnp\u001b[0m\u001b[1;33m.\u001b[0m\u001b[0mdtype\u001b[0m\u001b[1;33m(\u001b[0m\u001b[1;34m\"O\"\u001b[0m\u001b[1;33m)\u001b[0m\u001b[1;33m:\u001b[0m\u001b[1;33m\u001b[0m\u001b[1;33m\u001b[0m\u001b[0m\n\u001b[1;32m--> 732\u001b[1;33m             \u001b[0marr\u001b[0m \u001b[1;33m=\u001b[0m \u001b[0mlib\u001b[0m\u001b[1;33m.\u001b[0m\u001b[0mmaybe_convert_objects\u001b[0m\u001b[1;33m(\u001b[0m\u001b[0marr\u001b[0m\u001b[1;33m,\u001b[0m \u001b[0mtry_float\u001b[0m\u001b[1;33m=\u001b[0m\u001b[0mcoerce_float\u001b[0m\u001b[1;33m)\u001b[0m\u001b[1;33m\u001b[0m\u001b[1;33m\u001b[0m\u001b[0m\n\u001b[0m\u001b[0;32m    733\u001b[0m             \u001b[0marr\u001b[0m \u001b[1;33m=\u001b[0m \u001b[0mmaybe_cast_to_datetime\u001b[0m\u001b[1;33m(\u001b[0m\u001b[0marr\u001b[0m\u001b[1;33m,\u001b[0m \u001b[0mdtype\u001b[0m\u001b[1;33m)\u001b[0m\u001b[1;33m\u001b[0m\u001b[1;33m\u001b[0m\u001b[0m\n\u001b[0;32m    734\u001b[0m         \u001b[1;32mreturn\u001b[0m \u001b[0marr\u001b[0m\u001b[1;33m\u001b[0m\u001b[1;33m\u001b[0m\u001b[0m\n",
      "\u001b[1;32mpandas\\_libs\\lib.pyx\u001b[0m in \u001b[0;36mpandas._libs.lib.maybe_convert_objects\u001b[1;34m()\u001b[0m\n",
      "\u001b[1;32m~\\anaconda3\\lib\\site-packages\\numpy\\core\\numeric.py\u001b[0m in \u001b[0;36mfull\u001b[1;34m(shape, fill_value, dtype, order, like)\u001b[0m\n\u001b[0;32m    338\u001b[0m \u001b[1;33m\u001b[0m\u001b[0m\n\u001b[0;32m    339\u001b[0m     \u001b[1;32mif\u001b[0m \u001b[0mdtype\u001b[0m \u001b[1;32mis\u001b[0m \u001b[1;32mNone\u001b[0m\u001b[1;33m:\u001b[0m\u001b[1;33m\u001b[0m\u001b[1;33m\u001b[0m\u001b[0m\n\u001b[1;32m--> 340\u001b[1;33m         \u001b[0mfill_value\u001b[0m \u001b[1;33m=\u001b[0m \u001b[0masarray\u001b[0m\u001b[1;33m(\u001b[0m\u001b[0mfill_value\u001b[0m\u001b[1;33m)\u001b[0m\u001b[1;33m\u001b[0m\u001b[1;33m\u001b[0m\u001b[0m\n\u001b[0m\u001b[0;32m    341\u001b[0m         \u001b[0mdtype\u001b[0m \u001b[1;33m=\u001b[0m \u001b[0mfill_value\u001b[0m\u001b[1;33m.\u001b[0m\u001b[0mdtype\u001b[0m\u001b[1;33m\u001b[0m\u001b[1;33m\u001b[0m\u001b[0m\n\u001b[0;32m    342\u001b[0m     \u001b[0ma\u001b[0m \u001b[1;33m=\u001b[0m \u001b[0mempty\u001b[0m\u001b[1;33m(\u001b[0m\u001b[0mshape\u001b[0m\u001b[1;33m,\u001b[0m \u001b[0mdtype\u001b[0m\u001b[1;33m,\u001b[0m \u001b[0morder\u001b[0m\u001b[1;33m)\u001b[0m\u001b[1;33m\u001b[0m\u001b[1;33m\u001b[0m\u001b[0m\n",
      "\u001b[1;31mKeyboardInterrupt\u001b[0m: "
     ]
    }
   ],
   "source": [
    "# 4.2\n",
    "from tools.HierarchicalClustering import HierarchicalClustering\n",
    "for feature, distance_threshold in [('all', 5),('real', 2.5),('reactive', 4.5),('harmonic', 2.5)]:\n",
    "    hic = HierarchicalClustering(feature=feature)\n",
    "    hic.distance_threshold = distance_threshold\n",
    "    hic.cluster_all()\n",
    "    print('----------')\n",
    "    print('Features used: ' + feature)\n",
    "    hic.get_scores()\n",
    "    print('----------')"
   ]
  },
  {
   "cell_type": "code",
   "execution_count": null,
   "id": "4f7e9dda",
   "metadata": {},
   "outputs": [],
   "source": [
    "from scipy.cluster.hierarchy import dendrogram, linkage\n",
    "from matplotlib import pyplot as plt\n",
    "\n",
    "def plot_dendrogram(row):\n",
    "    x_row, y_row = hic.get_X_Y(row)\n",
    "    linked = linkage(x_row, hic.linkage)\n",
    "    labelList = ['Faulty' if x else 'Healthy' for x in y_row]\n",
    "    plt1 = dendrogram(linked,\n",
    "                orientation='top',\n",
    "                leaf_rotation=45,\n",
    "                labels=labelList,\n",
    "                distance_sort='descending',\n",
    "                show_leaf_counts=True,\n",
    "                color_threshold=hic.distance_threshold)\n",
    "    return plt1\n",
    "\n",
    "plt.figure(figsize=(10, 3), dpi=120)\n",
    "plt.suptitle('Agglomerative Hierarchical Clustering Dendrogram')\n",
    "\n",
    "plt.subplot(1, 2, 1)\n",
    "plt.xlabel('AC State')\n",
    "plt.ylabel('Distance')\n",
    "plt1 = plot_dendrogram(0)\n",
    "\n",
    "\n",
    "plt.subplot(1, 2, 2)\n",
    "plt.xlabel('AC State')\n",
    "plt.ylabel('Distance')\n",
    "plt2 = plot_dendrogram(10)"
   ]
  },
  {
   "cell_type": "code",
   "execution_count": null,
   "id": "e517b36d",
   "metadata": {},
   "outputs": [],
   "source": [
    "# 4.3\n",
    "from tools.KNN import KNN\n",
    "for feature in ['all','real','reactive','harmonic']:\n",
    "    knn = KNN(feature=feature)\n",
    "    knn.cluster_all()\n",
    "    print('----------')\n",
    "    print('Features used: ' + feature)\n",
    "    knn.get_scores()\n",
    "    print('----------')"
   ]
  },
  {
   "cell_type": "code",
   "execution_count": null,
   "id": "6b2742a4",
   "metadata": {},
   "outputs": [],
   "source": [
    "# 4.4\n",
    "from tools.LOF import LOF\n",
    "for feature in ['all','real','reactive','harmonic']:\n",
    "    lof = LOF(feature=feature)\n",
    "    lof.cluster_all()\n",
    "    print('----------')\n",
    "    print('Features used: ' + feature)\n",
    "    lof.get_scores()\n",
    "    print('----------')"
   ]
  },
  {
   "cell_type": "code",
   "execution_count": null,
   "id": "720670de",
   "metadata": {},
   "outputs": [],
   "source": [
    "# 4.5\n",
    "from tools.SVMOneClass import SVMOneClass\n",
    "for feature in ['all','real','reactive','harmonic']:\n",
    "    svm = SVMOneClass(feature=feature)\n",
    "    svm.cluster_all()\n",
    "    print('----------')\n",
    "    print('Features used: ' + feature)\n",
    "    svm.get_scores()\n",
    "    print('----------')"
   ]
  },
  {
   "cell_type": "code",
   "execution_count": null,
   "id": "59d408d3",
   "metadata": {},
   "outputs": [
    {
     "name": "stdout",
     "output_type": "stream",
     "text": [
      "0% complete\n",
      "25% complete\n",
      "50% complete\n",
      "75% complete\n",
      "100% complete\n",
      "----------\n",
      "Features used: all\n",
      "AUC score: 0.8784520227348712\n",
      "threashold, accuracy, precision, recall, f2\n",
      "0.05 (0.0045, 0.0030045067601402104, 1.0, 0.01484413656605641)\n",
      "0.1 (0.0358, 0.003101736972704715, 1.0, 0.015318627450980393)\n",
      "0.15 (0.1319, 0.003443921478590288, 1.0, 0.016985618842713168)\n",
      "0.2 (0.3026, 0.004283266704740148, 1.0, 0.021055586749017405)\n",
      "0.25 (0.4808, 0.005555555555555556, 0.9666666666666667, 0.027153558052434457)\n",
      "0.3 (0.6181, 0.006769070554543088, 0.8666666666666667, 0.03281999495077001)\n",
      "0.35 (0.7101, 0.00890106128038343, 0.8666666666666667, 0.04274909569220651)\n",
      "0.4 (0.7786, 0.011627906976744186, 0.8666666666666667, 0.055178268251273345)\n",
      "0.45 (0.8369, 0.015142337976983646, 0.8333333333333334, 0.07058159232072274)\n",
      "0.5 (0.876, 0.016773162939297124, 0.7, 0.07653061224489796)\n",
      "0.55 (0.907, 0.018201284796573874, 0.5666666666666667, 0.08064516129032258)\n",
      "0.6 (0.931, 0.018950437317784258, 0.43333333333333335, 0.08064516129032259)\n",
      "0.65 (0.9496, 0.024096385542168676, 0.4, 0.0970873786407767)\n",
      "0.7 (0.9619, 0.026954177897574125, 0.3333333333333333, 0.10183299389002039)\n",
      "0.75 (0.9721, 0.03018867924528302, 0.26666666666666666, 0.10389610389610389)\n",
      "0.8 (0.9784, 0.039603960396039604, 0.26666666666666666, 0.12422360248447206)\n",
      "0.85 (0.982, 0.04819277108433735, 0.26666666666666666, 0.13986013986013984)\n",
      "0.9 (0.9859, 0.04878048780487805, 0.2, 0.12345679012345678)\n",
      "0.95 (0.9927, 0.061224489795918366, 0.1, 0.08875739644970414)\n",
      "----------\n",
      "0% complete\n",
      "25% complete\n",
      "50% complete\n",
      "75% complete\n",
      "100% complete\n",
      "----------\n",
      "Features used: real\n",
      "AUC score: 0.8687729856235372\n",
      "threashold, accuracy, precision, recall, f2\n",
      "0.05 (0.0085, 0.0030165912518853697, 1.0, 0.014903129657228018)\n",
      "0.1 (0.0541, 0.003161555485298767, 1.0, 0.015610365282547611)\n",
      "0.15 (0.1727, 0.003613151872817054, 1.0, 0.01780838181170604)\n",
      "0.2 (0.3459, 0.004565515142291888, 1.0, 0.02241817366611867)\n",
      "0.25 (0.509, 0.005872823005265289, 0.9666666666666667, 0.028667457493080264)\n",
      "0.3 (0.6356, 0.0070921985815602835, 0.8666666666666667, 0.03433703116745905)\n",
      "0.35 (0.7211, 0.009249377445748844, 0.8666666666666667, 0.04435346298191744)\n",
      "0.4 (0.7862, 0.012037037037037037, 0.8666666666666667, 0.05701754385964913)\n",
      "0.45 (0.837, 0.013973268529769137, 0.7666666666666667, 0.06511891279728199)\n",
      "0.5 (0.8783, 0.015510204081632653, 0.6333333333333333, 0.07063197026022305)\n",
      "0.55 (0.9106, 0.017857142857142856, 0.5333333333333333, 0.07874015748031495)\n",
      "0.6 (0.9336, 0.0182370820668693, 0.4, 0.07712082262210795)\n",
      "0.65 (0.9511, 0.02286902286902287, 0.36666666666666664, 0.09151414309484193)\n",
      "0.7 (0.9632, 0.027932960893854747, 0.3333333333333333, 0.10460251046025104)\n",
      "0.75 (0.9732, 0.031496062992125984, 0.26666666666666666, 0.10695187165775401)\n",
      "0.8 (0.9792, 0.036458333333333336, 0.23333333333333334, 0.11217948717948718)\n",
      "0.85 (0.982, 0.042682926829268296, 0.23333333333333334, 0.12323943661971833)\n",
      "0.9 (0.9853, 0.024390243902439025, 0.1, 0.06172839506172839)\n",
      "0.95 (0.9919, 0.0, 0.0, 0.0)\n",
      "----------\n",
      "0% complete\n"
     ]
    }
   ],
   "source": [
    "# 4.6\n",
    "from tools.Iforest import Iforest\n",
    "for feature in ['all','real','reactive','harmonic']:\n",
    "    ifo = Iforest(feature=feature)\n",
    "    ifo.cluster_all()\n",
    "    print('----------')\n",
    "    print('Features used: ' + feature)\n",
    "    ifo.get_scores()\n",
    "    print('----------')"
   ]
  },
  {
   "cell_type": "code",
   "execution_count": null,
   "id": "cc3d40da",
   "metadata": {},
   "outputs": [],
   "source": [
    "# 4.7\n",
    "from tools.Inne import Inne\n",
    "for feature in ['all','real','reactive','harmonic']:\n",
    "    inne = Inne(feature=feature)\n",
    "    inne.cluster_all()\n",
    "    print('----------')\n",
    "    print('Features used: ' + feature)\n",
    "    inne.get_scores()\n",
    "    print('----------')"
   ]
  },
  {
   "cell_type": "code",
   "execution_count": null,
   "id": "bee73a64",
   "metadata": {},
   "outputs": [],
   "source": []
  }
 ],
 "metadata": {
  "interpreter": {
   "hash": "f23faf4bfe871c203c8bec80520af5927fc7cb1ae3bd834ddf554ee587ad1c05"
  },
  "kernelspec": {
   "display_name": "Python 3",
   "language": "python",
   "name": "python3"
  },
  "language_info": {
   "codemirror_mode": {
    "name": "ipython",
    "version": 3
   },
   "file_extension": ".py",
   "mimetype": "text/x-python",
   "name": "python",
   "nbconvert_exporter": "python",
   "pygments_lexer": "ipython3",
   "version": "3.8.8"
  }
 },
 "nbformat": 4,
 "nbformat_minor": 5
}
