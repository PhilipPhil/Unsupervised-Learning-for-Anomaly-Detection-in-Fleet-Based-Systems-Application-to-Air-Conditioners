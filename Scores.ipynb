{
 "cells": [
  {
   "cell_type": "code",
   "execution_count": 1,
   "id": "2f307fe5",
   "metadata": {},
   "outputs": [
    {
     "name": "stdout",
     "output_type": "stream",
     "text": [
      "0% complete\n",
      "5% complete\n",
      "10% complete\n",
      "15% complete\n",
      "20% complete\n",
      "25% complete\n",
      "30% complete\n",
      "35% complete\n",
      "40% complete\n",
      "45% complete\n",
      "50% complete\n",
      "55% complete\n",
      "60% complete\n",
      "65% complete\n",
      "70% complete\n",
      "75% complete\n",
      "80% complete\n",
      "85% complete\n",
      "90% complete\n",
      "95% complete\n"
     ]
    },
    {
     "data": {
      "text/plain": [
       "0.9824999999999999"
      ]
     },
     "execution_count": 1,
     "metadata": {},
     "output_type": "execute_result"
    }
   ],
   "source": [
    "from tools.HierarchicalClustering import HierarchicalClustering\n",
    "hic = HierarchicalClustering()\n",
    "anomaly_score, y = hic.cluster_all()\n",
    "hic.auc_score(anomaly_score, y)"
   ]
  },
  {
   "cell_type": "code",
   "execution_count": 2,
   "id": "c8e0f443",
   "metadata": {},
   "outputs": [
    {
     "name": "stdout",
     "output_type": "stream",
     "text": [
      "0% complete\n",
      "5% complete\n",
      "10% complete\n",
      "15% complete\n",
      "20% complete\n",
      "25% complete\n",
      "30% complete\n",
      "35% complete\n",
      "40% complete\n",
      "45% complete\n",
      "50% complete\n",
      "55% complete\n",
      "60% complete\n",
      "65% complete\n",
      "70% complete\n",
      "75% complete\n",
      "80% complete\n",
      "85% complete\n",
      "90% complete\n",
      "95% complete\n"
     ]
    },
    {
     "data": {
      "text/plain": [
       "0.9651041666666668"
      ]
     },
     "execution_count": 2,
     "metadata": {},
     "output_type": "execute_result"
    }
   ],
   "source": [
    "from tools.KNN import KNN\n",
    "knn = KNN()\n",
    "anomaly_score, y = knn.cluster_all()\n",
    "knn.auc_score(anomaly_score, y)"
   ]
  },
  {
   "cell_type": "code",
   "execution_count": 3,
   "id": "12dfdb63",
   "metadata": {},
   "outputs": [
    {
     "name": "stdout",
     "output_type": "stream",
     "text": [
      "0% complete\n",
      "5% complete\n",
      "10% complete\n",
      "15% complete\n",
      "20% complete\n",
      "25% complete\n",
      "30% complete\n",
      "35% complete\n",
      "40% complete\n",
      "45% complete\n",
      "50% complete\n",
      "55% complete\n",
      "60% complete\n",
      "65% complete\n",
      "70% complete\n",
      "75% complete\n",
      "80% complete\n",
      "85% complete\n",
      "90% complete\n",
      "95% complete\n"
     ]
    },
    {
     "data": {
      "text/plain": [
       "0.9651041666666668"
      ]
     },
     "execution_count": 3,
     "metadata": {},
     "output_type": "execute_result"
    }
   ],
   "source": [
    "from tools.iForest import iForest\n",
    "ifo = iForest()\n",
    "anomaly_score, y = ifo.cluster_all()\n",
    "ifo.auc_score(anomaly_score, y)"
   ]
  },
  {
   "cell_type": "code",
   "execution_count": 4,
   "id": "fed5c59b",
   "metadata": {},
   "outputs": [
    {
     "name": "stdout",
     "output_type": "stream",
     "text": [
      "0% complete\n",
      "5% complete\n",
      "10% complete\n",
      "15% complete\n",
      "20% complete\n",
      "25% complete\n",
      "30% complete\n",
      "35% complete\n",
      "40% complete\n",
      "45% complete\n",
      "50% complete\n",
      "55% complete\n",
      "60% complete\n",
      "65% complete\n",
      "70% complete\n",
      "75% complete\n",
      "80% complete\n",
      "85% complete\n",
      "90% complete\n",
      "95% complete\n"
     ]
    },
    {
     "data": {
      "text/plain": [
       "0.9645833333333333"
      ]
     },
     "execution_count": 4,
     "metadata": {},
     "output_type": "execute_result"
    }
   ],
   "source": [
    "from tools.LOF import LOF\n",
    "lof = LOF()\n",
    "anomaly_score, y = lof.cluster_all()\n",
    "lof.auc_score(anomaly_score, y)"
   ]
  }
 ],
 "metadata": {
  "kernelspec": {
   "display_name": "Python 3",
   "language": "python",
   "name": "python3"
  },
  "language_info": {
   "codemirror_mode": {
    "name": "ipython",
    "version": 3
   },
   "file_extension": ".py",
   "mimetype": "text/x-python",
   "name": "python",
   "nbconvert_exporter": "python",
   "pygments_lexer": "ipython3",
   "version": "3.8.8"
  }
 },
 "nbformat": 4,
 "nbformat_minor": 5
}
