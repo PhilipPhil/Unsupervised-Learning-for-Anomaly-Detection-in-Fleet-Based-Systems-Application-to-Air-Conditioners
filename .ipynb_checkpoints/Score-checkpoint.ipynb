{
 "cells": [
  {
   "cell_type": "code",
   "execution_count": 5,
   "id": "b8b26a59",
   "metadata": {},
   "outputs": [],
   "source": [
    "import pandas as pd\n",
    "import numpy as np\n",
    "import os\n",
    "import scipy.cluster.hierarchy as sch\n",
    "from sklearn.cluster import AgglomerativeClustering\n",
    "import matplotlib.pyplot as plt\n",
    "from matplotlib.pyplot import figure\n",
    "from sklearn.metrics import *\n",
    "from collections import Counter"
   ]
  },
  {
   "cell_type": "code",
   "execution_count": 8,
   "id": "666ef26d",
   "metadata": {},
   "outputs": [],
   "source": [
    "class HierarchicalClustering:\n",
    "    affinity='euclidean'\n",
    "    linkage='ward'\n",
    "    distance_threshold=9\n",
    "    \n",
    "    def __init__(self):\n",
    "        self.ACs = []\n",
    "        for ac_name in os.listdir('./ACs'):\n",
    "            ac_i = pd.read_pickle('./ACs/'+ac_name)\n",
    "            self.ACs.append(ac_i)\n",
    "        self.n_rows = len(self.ACs[0])\n",
    "\n",
    "    def get_X_Y(self, row: int) -> (pd.DataFrame, pd.DataFrame):\n",
    "        data = []\n",
    "        for AC in self.ACs:\n",
    "            AC = pd.DataFrame(AC)\n",
    "            data.append(AC.iloc[row,:].tolist())\n",
    "        data = pd.DataFrame(data).reset_index(drop=True)\n",
    "        X = data.iloc[:,1:]\n",
    "        Y = data.iloc[:,0]\n",
    "        \n",
    "        return X, Y.astype(int).tolist()   \n",
    "    \n",
    "    def cluster(self, x_row: pd.DataFrame) -> (list):\n",
    "                \n",
    "        clustering = AgglomerativeClustering(n_clusters=None, affinity='euclidean', linkage='ward', distance_threshold=self.distance_threshold).fit(x_row)\n",
    "\n",
    "        labels = clustering.labels_\n",
    "        \n",
    "        color_counts = Counter(labels)\n",
    "            \n",
    "        anomaly_score = [1 - color_counts[color] / len(labels) for color in labels]\n",
    "        \n",
    "        return anomaly_score\n",
    "    \n",
    "    def cluster_all(self, do_score=False) -> (list, list):\n",
    "        \n",
    "        anomaly_score, y = [], []\n",
    "        \n",
    "        for row in range(self.n_rows):\n",
    "            x_row, y_row = hc.get_X_Y(row)\n",
    "            if sum(y_row) >= len(y_row)//2: \n",
    "                print('oops')\n",
    "\n",
    "            anomaly_score_row = hc.cluster(x_row)\n",
    "            anomaly_score += anomaly_score_row\n",
    "            y += y_row\n",
    "                    \n",
    "        return anomaly_score, y\n",
    "    \n",
    "    def auc_score(self, anomaly_score: list, y: list):\n",
    "        # AUC\n",
    "        fpr, tpr, thresholds = roc_curve(y, anomaly_score)\n",
    "        AUC = auc(fpr, tpr)\n",
    "        print('AUC score: %f' % AUC)\n",
    "    \n",
    "    def score(self, anomaly_score: list, y: list, threashold=0.8) -> None:\n",
    "        \n",
    "        yhat = [ 1 if y_i >= threashold else 0 for y_i in anomaly_score]\n",
    "        \n",
    "        # accuracy: (tp + tn) / (p + n)\n",
    "        accuracy = accuracy_score(y, yhat)\n",
    "        print('Accuracy: %f' % accuracy)\n",
    "        # precision tp / (tp + fp)\n",
    "        precision = precision_score(y, yhat)\n",
    "        print('Precision: %f' % precision)\n",
    "        # recall: tp / (tp + fn) More important in this case\n",
    "        recall = recall_score(y, yhat)\n",
    "        print('Recall: %f' % recall)\n",
    "        # f1: 2 tp / (2 tp + fp + fn)\n",
    "        f1 = f1_score(y, yhat)\n",
    "        print('F1 score: %f' % f1)"
   ]
  },
  {
   "cell_type": "code",
   "execution_count": 10,
   "id": "0e87ef01",
   "metadata": {},
   "outputs": [],
   "source": [
    "hc = HierarchicalClustering()\n",
    "# anomaly_score, y = hc.cluster_all()\n",
    "# hc.auc_score(anomaly_score, y)\n",
    "# for p in [0.4,0.5,0.6,0.7,0.8,0.9]:\n",
    "#     print(p)\n",
    "#     hc.score(anomaly_score, y, threashold=p)"
   ]
  },
  {
   "cell_type": "code",
   "execution_count": 11,
   "id": "ddfac757",
   "metadata": {},
   "outputs": [
    {
     "ename": "AttributeError",
     "evalue": "type object 'HierarchicalClustering' has no attribute 'ACs'",
     "output_type": "error",
     "traceback": [
      "\u001b[1;31m---------------------------------------------------------------------------\u001b[0m",
      "\u001b[1;31mAttributeError\u001b[0m                            Traceback (most recent call last)",
      "\u001b[1;32m<ipython-input-11-94903434ad0d>\u001b[0m in \u001b[0;36m<module>\u001b[1;34m\u001b[0m\n\u001b[1;32m----> 1\u001b[1;33m \u001b[0mHierarchicalClustering\u001b[0m\u001b[1;33m.\u001b[0m\u001b[0mACs\u001b[0m\u001b[1;33m[\u001b[0m\u001b[1;36m0\u001b[0m\u001b[1;33m]\u001b[0m\u001b[1;33m\u001b[0m\u001b[1;33m\u001b[0m\u001b[0m\n\u001b[0m",
      "\u001b[1;31mAttributeError\u001b[0m: type object 'HierarchicalClustering' has no attribute 'ACs'"
     ]
    }
   ],
   "source": [
    "HierarchicalClustering.ACs[0]"
   ]
  },
  {
   "cell_type": "code",
   "execution_count": null,
   "id": "66895cb5",
   "metadata": {},
   "outputs": [],
   "source": []
  }
 ],
 "metadata": {
  "kernelspec": {
   "display_name": "Python 3",
   "language": "python",
   "name": "python3"
  },
  "language_info": {
   "codemirror_mode": {
    "name": "ipython",
    "version": 3
   },
   "file_extension": ".py",
   "mimetype": "text/x-python",
   "name": "python",
   "nbconvert_exporter": "python",
   "pygments_lexer": "ipython3",
   "version": "3.8.8"
  }
 },
 "nbformat": 4,
 "nbformat_minor": 5
}
