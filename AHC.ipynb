{
 "cells": [
  {
   "cell_type": "code",
   "execution_count": null,
   "id": "78420b19",
   "metadata": {},
   "outputs": [
    {
     "name": "stdout",
     "output_type": "stream",
     "text": [
      "----------\n",
      "Features used: all\n",
      "0.967\n",
      "[0.508, 0.862, 0.934, 0.95, 0.959, 0.967, 0.948, 0.956, 0.959, 0.96, 0.961, 0.961, 0.962, 0.962, 0.963, 0.965, 0.965, 0.946, 0.946, 0.949]\n",
      "[0.45, 0.46, 0.47, 0.47, 0.47, 0.47, 0.46, 0.46, 0.44, 0.44, 0.45, 0.45, 0.44, 0.44, 0.43, 0.44, 0.44, 0.44, 0.44, 0.44]\n",
      "[0.5, 1, 1.5, 2, 2.5, 3, 3.5, 4, 4.5, 5, 5.5, 6, 6.5, 7, 7.5, 8, 8.5, 9, 9.5, 10]\n",
      "----------\n",
      "----------\n",
      "Features used: real\n"
     ]
    }
   ],
   "source": [
    "import time\n",
    "from tools.HierarchicalClustering import HierarchicalClustering\n",
    "\n",
    "distances = [0.5,1,1.5,2,2.5,3,3.5,4,4.5,5,5.5,6,6.5,7,7.5,8,8.5,9,9.5,10]\n",
    "\n",
    "for feature in ['all','real','reactive','harmonic']:\n",
    "    AUC_Scores = []\n",
    "    times = []\n",
    "\n",
    "    print('----------')\n",
    "    print('Features used: ' + feature)\n",
    "    \n",
    "    for distance_threshold in distances:\n",
    "        hic = HierarchicalClustering(feature=feature, suppress_progress=True)\n",
    "        hic.distance_threshold = distance_threshold\n",
    "        \n",
    "        start = time.time()\n",
    "        anomaly_score, y = hic.cluster_all()\n",
    "        end = time.time()\n",
    "        \n",
    "        sc = round(hic.auc_score(anomaly_score, y), 3)\n",
    "        AUC_Scores.append(sc)\n",
    "\n",
    "        avrg_run = round(( (end - start)/1000 ), 2)\n",
    "        times.append( avrg_run )\n",
    "\n",
    "    print(max(AUC_Scores))\n",
    "    print(AUC_Scores)\n",
    "    print(times)\n",
    "    print(distances)\n",
    "\n",
    "    print('----------')"
   ]
  }
 ],
 "metadata": {
  "kernelspec": {
   "display_name": "Python 3",
   "language": "python",
   "name": "python3"
  },
  "language_info": {
   "codemirror_mode": {
    "name": "ipython",
    "version": 3
   },
   "file_extension": ".py",
   "mimetype": "text/x-python",
   "name": "python",
   "nbconvert_exporter": "python",
   "pygments_lexer": "ipython3",
   "version": "3.8.8"
  }
 },
 "nbformat": 4,
 "nbformat_minor": 5
}
